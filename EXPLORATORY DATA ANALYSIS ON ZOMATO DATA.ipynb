{
 "cells": [
  {
   "cell_type": "markdown",
   "id": "32d0b57c",
   "metadata": {},
   "source": [
    "# EXPLORATORY DATA ANALYSIS ON ZOMATO DATA"
   ]
  },
  {
   "cell_type": "markdown",
   "id": "70c58863",
   "metadata": {},
   "source": [
    "## Importing all the necessary modules"
   ]
  },
  {
   "cell_type": "code",
   "execution_count": 1,
   "id": "4d8f341c",
   "metadata": {},
   "outputs": [],
   "source": [
    "import numpy as np                      # for the 2-d matrices\n",
    "import pandas as pd                     # for the data frames\n",
    "import matplotlib.pyplot as plt         # for data vizualizations \n",
    "import seaborn as sns                   # for the visualizations "
   ]
  },
  {
   "cell_type": "markdown",
   "id": "3041db4e",
   "metadata": {},
   "source": [
    "## Importing the data from an external source into the Python environment"
   ]
  },
  {
   "cell_type": "code",
   "execution_count": 2,
   "id": "e2e35f65",
   "metadata": {},
   "outputs": [
    {
     "data": {
      "text/html": [
       "<div>\n",
       "<style scoped>\n",
       "    .dataframe tbody tr th:only-of-type {\n",
       "        vertical-align: middle;\n",
       "    }\n",
       "\n",
       "    .dataframe tbody tr th {\n",
       "        vertical-align: top;\n",
       "    }\n",
       "\n",
       "    .dataframe thead th {\n",
       "        text-align: right;\n",
       "    }\n",
       "</style>\n",
       "<table border=\"1\" class=\"dataframe\">\n",
       "  <thead>\n",
       "    <tr style=\"text-align: right;\">\n",
       "      <th></th>\n",
       "      <th>Restaurant ID</th>\n",
       "      <th>Restaurant Name</th>\n",
       "      <th>Country Code</th>\n",
       "      <th>City</th>\n",
       "      <th>Address</th>\n",
       "      <th>Locality</th>\n",
       "      <th>Locality Verbose</th>\n",
       "      <th>Longitude</th>\n",
       "      <th>Latitude</th>\n",
       "      <th>Cuisines</th>\n",
       "      <th>...</th>\n",
       "      <th>Currency</th>\n",
       "      <th>Has Table booking</th>\n",
       "      <th>Has Online delivery</th>\n",
       "      <th>Is delivering now</th>\n",
       "      <th>Switch to order menu</th>\n",
       "      <th>Price range</th>\n",
       "      <th>Aggregate rating</th>\n",
       "      <th>Rating color</th>\n",
       "      <th>Rating text</th>\n",
       "      <th>Votes</th>\n",
       "    </tr>\n",
       "  </thead>\n",
       "  <tbody>\n",
       "    <tr>\n",
       "      <th>0</th>\n",
       "      <td>6317637</td>\n",
       "      <td>Le Petit Souffle</td>\n",
       "      <td>162</td>\n",
       "      <td>Makati City</td>\n",
       "      <td>Third Floor, Century City Mall, Kalayaan Avenu...</td>\n",
       "      <td>Century City Mall, Poblacion, Makati City</td>\n",
       "      <td>Century City Mall, Poblacion, Makati City, Mak...</td>\n",
       "      <td>121.027535</td>\n",
       "      <td>14.565443</td>\n",
       "      <td>French, Japanese, Desserts</td>\n",
       "      <td>...</td>\n",
       "      <td>Botswana Pula(P)</td>\n",
       "      <td>Yes</td>\n",
       "      <td>No</td>\n",
       "      <td>No</td>\n",
       "      <td>No</td>\n",
       "      <td>3</td>\n",
       "      <td>4.8</td>\n",
       "      <td>Dark Green</td>\n",
       "      <td>Excellent</td>\n",
       "      <td>314</td>\n",
       "    </tr>\n",
       "    <tr>\n",
       "      <th>1</th>\n",
       "      <td>6304287</td>\n",
       "      <td>Izakaya Kikufuji</td>\n",
       "      <td>162</td>\n",
       "      <td>Makati City</td>\n",
       "      <td>Little Tokyo, 2277 Chino Roces Avenue, Legaspi...</td>\n",
       "      <td>Little Tokyo, Legaspi Village, Makati City</td>\n",
       "      <td>Little Tokyo, Legaspi Village, Makati City, Ma...</td>\n",
       "      <td>121.014101</td>\n",
       "      <td>14.553708</td>\n",
       "      <td>Japanese</td>\n",
       "      <td>...</td>\n",
       "      <td>Botswana Pula(P)</td>\n",
       "      <td>Yes</td>\n",
       "      <td>No</td>\n",
       "      <td>No</td>\n",
       "      <td>No</td>\n",
       "      <td>3</td>\n",
       "      <td>4.5</td>\n",
       "      <td>Dark Green</td>\n",
       "      <td>Excellent</td>\n",
       "      <td>591</td>\n",
       "    </tr>\n",
       "    <tr>\n",
       "      <th>2</th>\n",
       "      <td>6300002</td>\n",
       "      <td>Heat - Edsa Shangri-La</td>\n",
       "      <td>162</td>\n",
       "      <td>Mandaluyong City</td>\n",
       "      <td>Edsa Shangri-La, 1 Garden Way, Ortigas, Mandal...</td>\n",
       "      <td>Edsa Shangri-La, Ortigas, Mandaluyong City</td>\n",
       "      <td>Edsa Shangri-La, Ortigas, Mandaluyong City, Ma...</td>\n",
       "      <td>121.056831</td>\n",
       "      <td>14.581404</td>\n",
       "      <td>Seafood, Asian, Filipino, Indian</td>\n",
       "      <td>...</td>\n",
       "      <td>Botswana Pula(P)</td>\n",
       "      <td>Yes</td>\n",
       "      <td>No</td>\n",
       "      <td>No</td>\n",
       "      <td>No</td>\n",
       "      <td>4</td>\n",
       "      <td>4.4</td>\n",
       "      <td>Green</td>\n",
       "      <td>Very Good</td>\n",
       "      <td>270</td>\n",
       "    </tr>\n",
       "    <tr>\n",
       "      <th>3</th>\n",
       "      <td>6318506</td>\n",
       "      <td>Ooma</td>\n",
       "      <td>162</td>\n",
       "      <td>Mandaluyong City</td>\n",
       "      <td>Third Floor, Mega Fashion Hall, SM Megamall, O...</td>\n",
       "      <td>SM Megamall, Ortigas, Mandaluyong City</td>\n",
       "      <td>SM Megamall, Ortigas, Mandaluyong City, Mandal...</td>\n",
       "      <td>121.056475</td>\n",
       "      <td>14.585318</td>\n",
       "      <td>Japanese, Sushi</td>\n",
       "      <td>...</td>\n",
       "      <td>Botswana Pula(P)</td>\n",
       "      <td>No</td>\n",
       "      <td>No</td>\n",
       "      <td>No</td>\n",
       "      <td>No</td>\n",
       "      <td>4</td>\n",
       "      <td>4.9</td>\n",
       "      <td>Dark Green</td>\n",
       "      <td>Excellent</td>\n",
       "      <td>365</td>\n",
       "    </tr>\n",
       "    <tr>\n",
       "      <th>4</th>\n",
       "      <td>6314302</td>\n",
       "      <td>Sambo Kojin</td>\n",
       "      <td>162</td>\n",
       "      <td>Mandaluyong City</td>\n",
       "      <td>Third Floor, Mega Atrium, SM Megamall, Ortigas...</td>\n",
       "      <td>SM Megamall, Ortigas, Mandaluyong City</td>\n",
       "      <td>SM Megamall, Ortigas, Mandaluyong City, Mandal...</td>\n",
       "      <td>121.057508</td>\n",
       "      <td>14.584450</td>\n",
       "      <td>Japanese, Korean</td>\n",
       "      <td>...</td>\n",
       "      <td>Botswana Pula(P)</td>\n",
       "      <td>Yes</td>\n",
       "      <td>No</td>\n",
       "      <td>No</td>\n",
       "      <td>No</td>\n",
       "      <td>4</td>\n",
       "      <td>4.8</td>\n",
       "      <td>Dark Green</td>\n",
       "      <td>Excellent</td>\n",
       "      <td>229</td>\n",
       "    </tr>\n",
       "  </tbody>\n",
       "</table>\n",
       "<p>5 rows × 21 columns</p>\n",
       "</div>"
      ],
      "text/plain": [
       "   Restaurant ID         Restaurant Name  Country Code              City  \\\n",
       "0        6317637        Le Petit Souffle           162       Makati City   \n",
       "1        6304287        Izakaya Kikufuji           162       Makati City   \n",
       "2        6300002  Heat - Edsa Shangri-La           162  Mandaluyong City   \n",
       "3        6318506                    Ooma           162  Mandaluyong City   \n",
       "4        6314302             Sambo Kojin           162  Mandaluyong City   \n",
       "\n",
       "                                             Address  \\\n",
       "0  Third Floor, Century City Mall, Kalayaan Avenu...   \n",
       "1  Little Tokyo, 2277 Chino Roces Avenue, Legaspi...   \n",
       "2  Edsa Shangri-La, 1 Garden Way, Ortigas, Mandal...   \n",
       "3  Third Floor, Mega Fashion Hall, SM Megamall, O...   \n",
       "4  Third Floor, Mega Atrium, SM Megamall, Ortigas...   \n",
       "\n",
       "                                     Locality  \\\n",
       "0   Century City Mall, Poblacion, Makati City   \n",
       "1  Little Tokyo, Legaspi Village, Makati City   \n",
       "2  Edsa Shangri-La, Ortigas, Mandaluyong City   \n",
       "3      SM Megamall, Ortigas, Mandaluyong City   \n",
       "4      SM Megamall, Ortigas, Mandaluyong City   \n",
       "\n",
       "                                    Locality Verbose   Longitude   Latitude  \\\n",
       "0  Century City Mall, Poblacion, Makati City, Mak...  121.027535  14.565443   \n",
       "1  Little Tokyo, Legaspi Village, Makati City, Ma...  121.014101  14.553708   \n",
       "2  Edsa Shangri-La, Ortigas, Mandaluyong City, Ma...  121.056831  14.581404   \n",
       "3  SM Megamall, Ortigas, Mandaluyong City, Mandal...  121.056475  14.585318   \n",
       "4  SM Megamall, Ortigas, Mandaluyong City, Mandal...  121.057508  14.584450   \n",
       "\n",
       "                           Cuisines  ...          Currency Has Table booking  \\\n",
       "0        French, Japanese, Desserts  ...  Botswana Pula(P)               Yes   \n",
       "1                          Japanese  ...  Botswana Pula(P)               Yes   \n",
       "2  Seafood, Asian, Filipino, Indian  ...  Botswana Pula(P)               Yes   \n",
       "3                   Japanese, Sushi  ...  Botswana Pula(P)                No   \n",
       "4                  Japanese, Korean  ...  Botswana Pula(P)               Yes   \n",
       "\n",
       "  Has Online delivery Is delivering now Switch to order menu Price range  \\\n",
       "0                  No                No                   No           3   \n",
       "1                  No                No                   No           3   \n",
       "2                  No                No                   No           4   \n",
       "3                  No                No                   No           4   \n",
       "4                  No                No                   No           4   \n",
       "\n",
       "   Aggregate rating  Rating color Rating text Votes  \n",
       "0               4.8    Dark Green   Excellent   314  \n",
       "1               4.5    Dark Green   Excellent   591  \n",
       "2               4.4         Green   Very Good   270  \n",
       "3               4.9    Dark Green   Excellent   365  \n",
       "4               4.8    Dark Green   Excellent   229  \n",
       "\n",
       "[5 rows x 21 columns]"
      ]
     },
     "execution_count": 2,
     "metadata": {},
     "output_type": "execute_result"
    }
   ],
   "source": [
    "df=pd.read_csv('zomato.csv',encoding='latin-1')\n",
    "df.head()"
   ]
  },
  {
   "cell_type": "code",
   "execution_count": 3,
   "id": "8336064d",
   "metadata": {},
   "outputs": [
    {
     "data": {
      "text/plain": [
       "(9551, 21)"
      ]
     },
     "execution_count": 3,
     "metadata": {},
     "output_type": "execute_result"
    }
   ],
   "source": [
    "df.shape"
   ]
  },
  {
   "cell_type": "code",
   "execution_count": 4,
   "id": "bf65ebb3",
   "metadata": {},
   "outputs": [
    {
     "data": {
      "text/html": [
       "<div>\n",
       "<style scoped>\n",
       "    .dataframe tbody tr th:only-of-type {\n",
       "        vertical-align: middle;\n",
       "    }\n",
       "\n",
       "    .dataframe tbody tr th {\n",
       "        vertical-align: top;\n",
       "    }\n",
       "\n",
       "    .dataframe thead th {\n",
       "        text-align: right;\n",
       "    }\n",
       "</style>\n",
       "<table border=\"1\" class=\"dataframe\">\n",
       "  <thead>\n",
       "    <tr style=\"text-align: right;\">\n",
       "      <th></th>\n",
       "      <th>Country Code</th>\n",
       "      <th>Country</th>\n",
       "    </tr>\n",
       "  </thead>\n",
       "  <tbody>\n",
       "    <tr>\n",
       "      <th>0</th>\n",
       "      <td>1</td>\n",
       "      <td>India</td>\n",
       "    </tr>\n",
       "    <tr>\n",
       "      <th>1</th>\n",
       "      <td>14</td>\n",
       "      <td>Australia</td>\n",
       "    </tr>\n",
       "    <tr>\n",
       "      <th>2</th>\n",
       "      <td>30</td>\n",
       "      <td>Brazil</td>\n",
       "    </tr>\n",
       "    <tr>\n",
       "      <th>3</th>\n",
       "      <td>37</td>\n",
       "      <td>Canada</td>\n",
       "    </tr>\n",
       "    <tr>\n",
       "      <th>4</th>\n",
       "      <td>94</td>\n",
       "      <td>Indonesia</td>\n",
       "    </tr>\n",
       "  </tbody>\n",
       "</table>\n",
       "</div>"
      ],
      "text/plain": [
       "   Country Code    Country\n",
       "0             1      India\n",
       "1            14  Australia\n",
       "2            30     Brazil\n",
       "3            37     Canada\n",
       "4            94  Indonesia"
      ]
     },
     "execution_count": 4,
     "metadata": {},
     "output_type": "execute_result"
    }
   ],
   "source": [
    "df_country=pd.read_excel('Country-Code.xlsx')\n",
    "df_country.head()"
   ]
  },
  {
   "cell_type": "code",
   "execution_count": 5,
   "id": "e17d2d15",
   "metadata": {},
   "outputs": [
    {
     "data": {
      "text/plain": [
       "(15, 2)"
      ]
     },
     "execution_count": 5,
     "metadata": {},
     "output_type": "execute_result"
    }
   ],
   "source": [
    "df_country.shape"
   ]
  },
  {
   "cell_type": "markdown",
   "id": "fea94928",
   "metadata": {},
   "source": [
    "## Renaming the variables as per the Naming conversion."
   ]
  },
  {
   "cell_type": "code",
   "execution_count": 6,
   "id": "caa484a9",
   "metadata": {},
   "outputs": [
    {
     "data": {
      "text/plain": [
       "Index(['Restaurant ID', 'Restaurant Name', 'Country Code', 'City', 'Address',\n",
       "       'Locality', 'Locality Verbose', 'Longitude', 'Latitude', 'Cuisines',\n",
       "       'Average Cost for two', 'Currency', 'Has Table booking',\n",
       "       'Has Online delivery', 'Is delivering now', 'Switch to order menu',\n",
       "       'Price range', 'Aggregate rating', 'Rating color', 'Rating text',\n",
       "       'Votes'],\n",
       "      dtype='object')"
      ]
     },
     "execution_count": 6,
     "metadata": {},
     "output_type": "execute_result"
    }
   ],
   "source": [
    "df.columns"
   ]
  },
  {
   "cell_type": "code",
   "execution_count": 7,
   "id": "1b1a9d60",
   "metadata": {},
   "outputs": [
    {
     "data": {
      "text/plain": [
       "Index(['Restaurant_ID', 'Restaurant_Name', 'Country_Code', 'City', 'Address',\n",
       "       'Locality', 'Locality_Verbose', 'Longitude', 'Latitude', 'Cuisines',\n",
       "       'Average_Cost_for_two', 'Currency', 'Has_Table_booking',\n",
       "       'Has_Online_delivery', 'Is_delivering_now', 'Switch_to_order_menu',\n",
       "       'Price_range', 'Aggregate_rating', 'Rating_color', 'Rating_text',\n",
       "       'Votes'],\n",
       "      dtype='object')"
      ]
     },
     "execution_count": 7,
     "metadata": {},
     "output_type": "execute_result"
    }
   ],
   "source": [
    "df.columns = [i.replace(' ','_') for i in df.columns]\n",
    "df.columns"
   ]
  },
  {
   "cell_type": "code",
   "execution_count": 8,
   "id": "ef81361a",
   "metadata": {},
   "outputs": [
    {
     "name": "stdout",
     "output_type": "stream",
     "text": [
      "<class 'pandas.core.frame.DataFrame'>\n",
      "RangeIndex: 9551 entries, 0 to 9550\n",
      "Data columns (total 21 columns):\n",
      " #   Column                Non-Null Count  Dtype  \n",
      "---  ------                --------------  -----  \n",
      " 0   Restaurant_ID         9551 non-null   int64  \n",
      " 1   Restaurant_Name       9551 non-null   object \n",
      " 2   Country_Code          9551 non-null   int64  \n",
      " 3   City                  9551 non-null   object \n",
      " 4   Address               9551 non-null   object \n",
      " 5   Locality              9551 non-null   object \n",
      " 6   Locality_Verbose      9551 non-null   object \n",
      " 7   Longitude             9551 non-null   float64\n",
      " 8   Latitude              9551 non-null   float64\n",
      " 9   Cuisines              9542 non-null   object \n",
      " 10  Average_Cost_for_two  9551 non-null   int64  \n",
      " 11  Currency              9551 non-null   object \n",
      " 12  Has_Table_booking     9551 non-null   object \n",
      " 13  Has_Online_delivery   9551 non-null   object \n",
      " 14  Is_delivering_now     9551 non-null   object \n",
      " 15  Switch_to_order_menu  9551 non-null   object \n",
      " 16  Price_range           9551 non-null   int64  \n",
      " 17  Aggregate_rating      9551 non-null   float64\n",
      " 18  Rating_color          9551 non-null   object \n",
      " 19  Rating_text           9551 non-null   object \n",
      " 20  Votes                 9551 non-null   int64  \n",
      "dtypes: float64(3), int64(5), object(13)\n",
      "memory usage: 1.5+ MB\n"
     ]
    }
   ],
   "source": [
    "df.info()"
   ]
  },
  {
   "cell_type": "code",
   "execution_count": 9,
   "id": "f1349223",
   "metadata": {},
   "outputs": [
    {
     "data": {
      "text/plain": [
       "Index(['Country Code', 'Country'], dtype='object')"
      ]
     },
     "execution_count": 9,
     "metadata": {},
     "output_type": "execute_result"
    }
   ],
   "source": [
    "df_country.columns"
   ]
  },
  {
   "cell_type": "code",
   "execution_count": 10,
   "id": "6e95c3aa",
   "metadata": {},
   "outputs": [
    {
     "data": {
      "text/plain": [
       "Index(['Country_Code', 'Country'], dtype='object')"
      ]
     },
     "execution_count": 10,
     "metadata": {},
     "output_type": "execute_result"
    }
   ],
   "source": [
    "df_country.columns=[i.replace(' ','_') for i in df_country.columns]\n",
    "df_country.columns"
   ]
  },
  {
   "cell_type": "code",
   "execution_count": 11,
   "id": "550fbee3",
   "metadata": {},
   "outputs": [
    {
     "name": "stdout",
     "output_type": "stream",
     "text": [
      "<class 'pandas.core.frame.DataFrame'>\n",
      "RangeIndex: 15 entries, 0 to 14\n",
      "Data columns (total 2 columns):\n",
      " #   Column        Non-Null Count  Dtype \n",
      "---  ------        --------------  ----- \n",
      " 0   Country_Code  15 non-null     int64 \n",
      " 1   Country       15 non-null     object\n",
      "dtypes: int64(1), object(1)\n",
      "memory usage: 372.0+ bytes\n"
     ]
    }
   ],
   "source": [
    "df_country.info()"
   ]
  },
  {
   "cell_type": "markdown",
   "id": "e8a760f5",
   "metadata": {},
   "source": [
    "## Merging the two datasets"
   ]
  },
  {
   "cell_type": "code",
   "execution_count": 12,
   "id": "e16e99e6",
   "metadata": {},
   "outputs": [
    {
     "data": {
      "text/html": [
       "<div>\n",
       "<style scoped>\n",
       "    .dataframe tbody tr th:only-of-type {\n",
       "        vertical-align: middle;\n",
       "    }\n",
       "\n",
       "    .dataframe tbody tr th {\n",
       "        vertical-align: top;\n",
       "    }\n",
       "\n",
       "    .dataframe thead th {\n",
       "        text-align: right;\n",
       "    }\n",
       "</style>\n",
       "<table border=\"1\" class=\"dataframe\">\n",
       "  <thead>\n",
       "    <tr style=\"text-align: right;\">\n",
       "      <th></th>\n",
       "      <th>Restaurant_ID</th>\n",
       "      <th>Restaurant_Name</th>\n",
       "      <th>Country_Code</th>\n",
       "      <th>City</th>\n",
       "      <th>Address</th>\n",
       "      <th>Locality</th>\n",
       "      <th>Locality_Verbose</th>\n",
       "      <th>Longitude</th>\n",
       "      <th>Latitude</th>\n",
       "      <th>Cuisines</th>\n",
       "      <th>...</th>\n",
       "      <th>Has_Table_booking</th>\n",
       "      <th>Has_Online_delivery</th>\n",
       "      <th>Is_delivering_now</th>\n",
       "      <th>Switch_to_order_menu</th>\n",
       "      <th>Price_range</th>\n",
       "      <th>Aggregate_rating</th>\n",
       "      <th>Rating_color</th>\n",
       "      <th>Rating_text</th>\n",
       "      <th>Votes</th>\n",
       "      <th>Country</th>\n",
       "    </tr>\n",
       "  </thead>\n",
       "  <tbody>\n",
       "    <tr>\n",
       "      <th>0</th>\n",
       "      <td>6317637</td>\n",
       "      <td>Le Petit Souffle</td>\n",
       "      <td>162</td>\n",
       "      <td>Makati City</td>\n",
       "      <td>Third Floor, Century City Mall, Kalayaan Avenu...</td>\n",
       "      <td>Century City Mall, Poblacion, Makati City</td>\n",
       "      <td>Century City Mall, Poblacion, Makati City, Mak...</td>\n",
       "      <td>121.027535</td>\n",
       "      <td>14.565443</td>\n",
       "      <td>French, Japanese, Desserts</td>\n",
       "      <td>...</td>\n",
       "      <td>Yes</td>\n",
       "      <td>No</td>\n",
       "      <td>No</td>\n",
       "      <td>No</td>\n",
       "      <td>3</td>\n",
       "      <td>4.8</td>\n",
       "      <td>Dark Green</td>\n",
       "      <td>Excellent</td>\n",
       "      <td>314</td>\n",
       "      <td>Phillipines</td>\n",
       "    </tr>\n",
       "    <tr>\n",
       "      <th>1</th>\n",
       "      <td>6304287</td>\n",
       "      <td>Izakaya Kikufuji</td>\n",
       "      <td>162</td>\n",
       "      <td>Makati City</td>\n",
       "      <td>Little Tokyo, 2277 Chino Roces Avenue, Legaspi...</td>\n",
       "      <td>Little Tokyo, Legaspi Village, Makati City</td>\n",
       "      <td>Little Tokyo, Legaspi Village, Makati City, Ma...</td>\n",
       "      <td>121.014101</td>\n",
       "      <td>14.553708</td>\n",
       "      <td>Japanese</td>\n",
       "      <td>...</td>\n",
       "      <td>Yes</td>\n",
       "      <td>No</td>\n",
       "      <td>No</td>\n",
       "      <td>No</td>\n",
       "      <td>3</td>\n",
       "      <td>4.5</td>\n",
       "      <td>Dark Green</td>\n",
       "      <td>Excellent</td>\n",
       "      <td>591</td>\n",
       "      <td>Phillipines</td>\n",
       "    </tr>\n",
       "    <tr>\n",
       "      <th>2</th>\n",
       "      <td>6300002</td>\n",
       "      <td>Heat - Edsa Shangri-La</td>\n",
       "      <td>162</td>\n",
       "      <td>Mandaluyong City</td>\n",
       "      <td>Edsa Shangri-La, 1 Garden Way, Ortigas, Mandal...</td>\n",
       "      <td>Edsa Shangri-La, Ortigas, Mandaluyong City</td>\n",
       "      <td>Edsa Shangri-La, Ortigas, Mandaluyong City, Ma...</td>\n",
       "      <td>121.056831</td>\n",
       "      <td>14.581404</td>\n",
       "      <td>Seafood, Asian, Filipino, Indian</td>\n",
       "      <td>...</td>\n",
       "      <td>Yes</td>\n",
       "      <td>No</td>\n",
       "      <td>No</td>\n",
       "      <td>No</td>\n",
       "      <td>4</td>\n",
       "      <td>4.4</td>\n",
       "      <td>Green</td>\n",
       "      <td>Very Good</td>\n",
       "      <td>270</td>\n",
       "      <td>Phillipines</td>\n",
       "    </tr>\n",
       "    <tr>\n",
       "      <th>3</th>\n",
       "      <td>6318506</td>\n",
       "      <td>Ooma</td>\n",
       "      <td>162</td>\n",
       "      <td>Mandaluyong City</td>\n",
       "      <td>Third Floor, Mega Fashion Hall, SM Megamall, O...</td>\n",
       "      <td>SM Megamall, Ortigas, Mandaluyong City</td>\n",
       "      <td>SM Megamall, Ortigas, Mandaluyong City, Mandal...</td>\n",
       "      <td>121.056475</td>\n",
       "      <td>14.585318</td>\n",
       "      <td>Japanese, Sushi</td>\n",
       "      <td>...</td>\n",
       "      <td>No</td>\n",
       "      <td>No</td>\n",
       "      <td>No</td>\n",
       "      <td>No</td>\n",
       "      <td>4</td>\n",
       "      <td>4.9</td>\n",
       "      <td>Dark Green</td>\n",
       "      <td>Excellent</td>\n",
       "      <td>365</td>\n",
       "      <td>Phillipines</td>\n",
       "    </tr>\n",
       "    <tr>\n",
       "      <th>4</th>\n",
       "      <td>6314302</td>\n",
       "      <td>Sambo Kojin</td>\n",
       "      <td>162</td>\n",
       "      <td>Mandaluyong City</td>\n",
       "      <td>Third Floor, Mega Atrium, SM Megamall, Ortigas...</td>\n",
       "      <td>SM Megamall, Ortigas, Mandaluyong City</td>\n",
       "      <td>SM Megamall, Ortigas, Mandaluyong City, Mandal...</td>\n",
       "      <td>121.057508</td>\n",
       "      <td>14.584450</td>\n",
       "      <td>Japanese, Korean</td>\n",
       "      <td>...</td>\n",
       "      <td>Yes</td>\n",
       "      <td>No</td>\n",
       "      <td>No</td>\n",
       "      <td>No</td>\n",
       "      <td>4</td>\n",
       "      <td>4.8</td>\n",
       "      <td>Dark Green</td>\n",
       "      <td>Excellent</td>\n",
       "      <td>229</td>\n",
       "      <td>Phillipines</td>\n",
       "    </tr>\n",
       "  </tbody>\n",
       "</table>\n",
       "<p>5 rows × 22 columns</p>\n",
       "</div>"
      ],
      "text/plain": [
       "   Restaurant_ID         Restaurant_Name  Country_Code              City  \\\n",
       "0        6317637        Le Petit Souffle           162       Makati City   \n",
       "1        6304287        Izakaya Kikufuji           162       Makati City   \n",
       "2        6300002  Heat - Edsa Shangri-La           162  Mandaluyong City   \n",
       "3        6318506                    Ooma           162  Mandaluyong City   \n",
       "4        6314302             Sambo Kojin           162  Mandaluyong City   \n",
       "\n",
       "                                             Address  \\\n",
       "0  Third Floor, Century City Mall, Kalayaan Avenu...   \n",
       "1  Little Tokyo, 2277 Chino Roces Avenue, Legaspi...   \n",
       "2  Edsa Shangri-La, 1 Garden Way, Ortigas, Mandal...   \n",
       "3  Third Floor, Mega Fashion Hall, SM Megamall, O...   \n",
       "4  Third Floor, Mega Atrium, SM Megamall, Ortigas...   \n",
       "\n",
       "                                     Locality  \\\n",
       "0   Century City Mall, Poblacion, Makati City   \n",
       "1  Little Tokyo, Legaspi Village, Makati City   \n",
       "2  Edsa Shangri-La, Ortigas, Mandaluyong City   \n",
       "3      SM Megamall, Ortigas, Mandaluyong City   \n",
       "4      SM Megamall, Ortigas, Mandaluyong City   \n",
       "\n",
       "                                    Locality_Verbose   Longitude   Latitude  \\\n",
       "0  Century City Mall, Poblacion, Makati City, Mak...  121.027535  14.565443   \n",
       "1  Little Tokyo, Legaspi Village, Makati City, Ma...  121.014101  14.553708   \n",
       "2  Edsa Shangri-La, Ortigas, Mandaluyong City, Ma...  121.056831  14.581404   \n",
       "3  SM Megamall, Ortigas, Mandaluyong City, Mandal...  121.056475  14.585318   \n",
       "4  SM Megamall, Ortigas, Mandaluyong City, Mandal...  121.057508  14.584450   \n",
       "\n",
       "                           Cuisines  ...  Has_Table_booking  \\\n",
       "0        French, Japanese, Desserts  ...                Yes   \n",
       "1                          Japanese  ...                Yes   \n",
       "2  Seafood, Asian, Filipino, Indian  ...                Yes   \n",
       "3                   Japanese, Sushi  ...                 No   \n",
       "4                  Japanese, Korean  ...                Yes   \n",
       "\n",
       "  Has_Online_delivery Is_delivering_now Switch_to_order_menu Price_range  \\\n",
       "0                  No                No                   No           3   \n",
       "1                  No                No                   No           3   \n",
       "2                  No                No                   No           4   \n",
       "3                  No                No                   No           4   \n",
       "4                  No                No                   No           4   \n",
       "\n",
       "  Aggregate_rating  Rating_color  Rating_text Votes      Country  \n",
       "0              4.8    Dark Green    Excellent   314  Phillipines  \n",
       "1              4.5    Dark Green    Excellent   591  Phillipines  \n",
       "2              4.4         Green    Very Good   270  Phillipines  \n",
       "3              4.9    Dark Green    Excellent   365  Phillipines  \n",
       "4              4.8    Dark Green    Excellent   229  Phillipines  \n",
       "\n",
       "[5 rows x 22 columns]"
      ]
     },
     "execution_count": 12,
     "metadata": {},
     "output_type": "execute_result"
    }
   ],
   "source": [
    "final_data=pd.merge(df,df_country,how='inner',left_on='Country_Code',right_on='Country_Code')\n",
    "final_data.head()"
   ]
  },
  {
   "cell_type": "code",
   "execution_count": 13,
   "id": "5a843742",
   "metadata": {},
   "outputs": [
    {
     "name": "stdout",
     "output_type": "stream",
     "text": [
      "<class 'pandas.core.frame.DataFrame'>\n",
      "RangeIndex: 9551 entries, 0 to 9550\n",
      "Data columns (total 22 columns):\n",
      " #   Column                Non-Null Count  Dtype  \n",
      "---  ------                --------------  -----  \n",
      " 0   Restaurant_ID         9551 non-null   int64  \n",
      " 1   Restaurant_Name       9551 non-null   object \n",
      " 2   Country_Code          9551 non-null   int64  \n",
      " 3   City                  9551 non-null   object \n",
      " 4   Address               9551 non-null   object \n",
      " 5   Locality              9551 non-null   object \n",
      " 6   Locality_Verbose      9551 non-null   object \n",
      " 7   Longitude             9551 non-null   float64\n",
      " 8   Latitude              9551 non-null   float64\n",
      " 9   Cuisines              9542 non-null   object \n",
      " 10  Average_Cost_for_two  9551 non-null   int64  \n",
      " 11  Currency              9551 non-null   object \n",
      " 12  Has_Table_booking     9551 non-null   object \n",
      " 13  Has_Online_delivery   9551 non-null   object \n",
      " 14  Is_delivering_now     9551 non-null   object \n",
      " 15  Switch_to_order_menu  9551 non-null   object \n",
      " 16  Price_range           9551 non-null   int64  \n",
      " 17  Aggregate_rating      9551 non-null   float64\n",
      " 18  Rating_color          9551 non-null   object \n",
      " 19  Rating_text           9551 non-null   object \n",
      " 20  Votes                 9551 non-null   int64  \n",
      " 21  Country               9551 non-null   object \n",
      "dtypes: float64(3), int64(5), object(14)\n",
      "memory usage: 1.6+ MB\n"
     ]
    }
   ],
   "source": [
    "final_data.info()"
   ]
  },
  {
   "cell_type": "markdown",
   "id": "304b244c",
   "metadata": {},
   "source": [
    "## Data Duplicacy Treatment"
   ]
  },
  {
   "cell_type": "code",
   "execution_count": 14,
   "id": "12eae4ef",
   "metadata": {},
   "outputs": [
    {
     "data": {
      "text/plain": [
       "False    9551\n",
       "Name: count, dtype: int64"
      ]
     },
     "execution_count": 14,
     "metadata": {},
     "output_type": "execute_result"
    }
   ],
   "source": [
    "final_data.duplicated().value_counts()"
   ]
  },
  {
   "cell_type": "code",
   "execution_count": 15,
   "id": "1592884d",
   "metadata": {},
   "outputs": [
    {
     "data": {
      "text/plain": [
       "0"
      ]
     },
     "execution_count": 15,
     "metadata": {},
     "output_type": "execute_result"
    }
   ],
   "source": [
    "final_data.duplicated().sum()"
   ]
  },
  {
   "cell_type": "markdown",
   "id": "2503c682",
   "metadata": {},
   "source": [
    "## Missing Values Treatment"
   ]
  },
  {
   "cell_type": "code",
   "execution_count": 16,
   "id": "70a63067",
   "metadata": {},
   "outputs": [
    {
     "data": {
      "text/plain": [
       "Restaurant_ID           0\n",
       "Restaurant_Name         0\n",
       "Country_Code            0\n",
       "City                    0\n",
       "Address                 0\n",
       "Locality                0\n",
       "Locality_Verbose        0\n",
       "Longitude               0\n",
       "Latitude                0\n",
       "Cuisines                9\n",
       "Average_Cost_for_two    0\n",
       "Currency                0\n",
       "Has_Table_booking       0\n",
       "Has_Online_delivery     0\n",
       "Is_delivering_now       0\n",
       "Switch_to_order_menu    0\n",
       "Price_range             0\n",
       "Aggregate_rating        0\n",
       "Rating_color            0\n",
       "Rating_text             0\n",
       "Votes                   0\n",
       "Country                 0\n",
       "dtype: int64"
      ]
     },
     "execution_count": 16,
     "metadata": {},
     "output_type": "execute_result"
    }
   ],
   "source": [
    " final_data.isna().sum()"
   ]
  },
  {
   "cell_type": "markdown",
   "id": "e9154d73",
   "metadata": {},
   "source": [
    "## Filling missing values in Categorical data with the Mode values."
   ]
  },
  {
   "cell_type": "code",
   "execution_count": 17,
   "id": "8b42e9e5",
   "metadata": {},
   "outputs": [
    {
     "data": {
      "text/plain": [
       "['Restaurant_Name',\n",
       " 'City',\n",
       " 'Address',\n",
       " 'Locality',\n",
       " 'Locality_Verbose',\n",
       " 'Cuisines',\n",
       " 'Currency',\n",
       " 'Has_Table_booking',\n",
       " 'Has_Online_delivery',\n",
       " 'Is_delivering_now',\n",
       " 'Switch_to_order_menu',\n",
       " 'Rating_color',\n",
       " 'Rating_text',\n",
       " 'Country']"
      ]
     },
     "execution_count": 17,
     "metadata": {},
     "output_type": "execute_result"
    }
   ],
   "source": [
    "categorical_data = [var for var in final_data.columns if final_data[var].dtype == 'O']\n",
    "categorical_data"
   ]
  },
  {
   "cell_type": "code",
   "execution_count": 18,
   "id": "de0febb8",
   "metadata": {},
   "outputs": [],
   "source": [
    "cat_data = final_data[categorical_data]"
   ]
  },
  {
   "cell_type": "code",
   "execution_count": 19,
   "id": "24137c5b",
   "metadata": {},
   "outputs": [
    {
     "name": "stderr",
     "output_type": "stream",
     "text": [
      "C:\\Users\\Gaya Gopan\\AppData\\Local\\Temp\\ipykernel_12088\\3666181678.py:1: SettingWithCopyWarning: \n",
      "A value is trying to be set on a copy of a slice from a DataFrame.\n",
      "Try using .loc[row_indexer,col_indexer] = value instead\n",
      "\n",
      "See the caveats in the documentation: https://pandas.pydata.org/pandas-docs/stable/user_guide/indexing.html#returning-a-view-versus-a-copy\n",
      "  cat_data['Restaurant_ID'] = final_data['Restaurant_ID']\n"
     ]
    }
   ],
   "source": [
    "cat_data['Restaurant_ID'] = final_data['Restaurant_ID']"
   ]
  },
  {
   "cell_type": "code",
   "execution_count": 20,
   "id": "91e91697",
   "metadata": {},
   "outputs": [
    {
     "data": {
      "text/html": [
       "<div>\n",
       "<style scoped>\n",
       "    .dataframe tbody tr th:only-of-type {\n",
       "        vertical-align: middle;\n",
       "    }\n",
       "\n",
       "    .dataframe tbody tr th {\n",
       "        vertical-align: top;\n",
       "    }\n",
       "\n",
       "    .dataframe thead th {\n",
       "        text-align: right;\n",
       "    }\n",
       "</style>\n",
       "<table border=\"1\" class=\"dataframe\">\n",
       "  <thead>\n",
       "    <tr style=\"text-align: right;\">\n",
       "      <th></th>\n",
       "      <th>Restaurant_Name</th>\n",
       "      <th>City</th>\n",
       "      <th>Address</th>\n",
       "      <th>Locality</th>\n",
       "      <th>Locality_Verbose</th>\n",
       "      <th>Cuisines</th>\n",
       "      <th>Currency</th>\n",
       "      <th>Has_Table_booking</th>\n",
       "      <th>Has_Online_delivery</th>\n",
       "      <th>Is_delivering_now</th>\n",
       "      <th>Switch_to_order_menu</th>\n",
       "      <th>Rating_color</th>\n",
       "      <th>Rating_text</th>\n",
       "      <th>Country</th>\n",
       "      <th>Restaurant_ID</th>\n",
       "    </tr>\n",
       "  </thead>\n",
       "  <tbody>\n",
       "    <tr>\n",
       "      <th>0</th>\n",
       "      <td>Le Petit Souffle</td>\n",
       "      <td>Makati City</td>\n",
       "      <td>Third Floor, Century City Mall, Kalayaan Avenu...</td>\n",
       "      <td>Century City Mall, Poblacion, Makati City</td>\n",
       "      <td>Century City Mall, Poblacion, Makati City, Mak...</td>\n",
       "      <td>French, Japanese, Desserts</td>\n",
       "      <td>Botswana Pula(P)</td>\n",
       "      <td>Yes</td>\n",
       "      <td>No</td>\n",
       "      <td>No</td>\n",
       "      <td>No</td>\n",
       "      <td>Dark Green</td>\n",
       "      <td>Excellent</td>\n",
       "      <td>Phillipines</td>\n",
       "      <td>6317637</td>\n",
       "    </tr>\n",
       "    <tr>\n",
       "      <th>1</th>\n",
       "      <td>Izakaya Kikufuji</td>\n",
       "      <td>Makati City</td>\n",
       "      <td>Little Tokyo, 2277 Chino Roces Avenue, Legaspi...</td>\n",
       "      <td>Little Tokyo, Legaspi Village, Makati City</td>\n",
       "      <td>Little Tokyo, Legaspi Village, Makati City, Ma...</td>\n",
       "      <td>Japanese</td>\n",
       "      <td>Botswana Pula(P)</td>\n",
       "      <td>Yes</td>\n",
       "      <td>No</td>\n",
       "      <td>No</td>\n",
       "      <td>No</td>\n",
       "      <td>Dark Green</td>\n",
       "      <td>Excellent</td>\n",
       "      <td>Phillipines</td>\n",
       "      <td>6304287</td>\n",
       "    </tr>\n",
       "    <tr>\n",
       "      <th>2</th>\n",
       "      <td>Heat - Edsa Shangri-La</td>\n",
       "      <td>Mandaluyong City</td>\n",
       "      <td>Edsa Shangri-La, 1 Garden Way, Ortigas, Mandal...</td>\n",
       "      <td>Edsa Shangri-La, Ortigas, Mandaluyong City</td>\n",
       "      <td>Edsa Shangri-La, Ortigas, Mandaluyong City, Ma...</td>\n",
       "      <td>Seafood, Asian, Filipino, Indian</td>\n",
       "      <td>Botswana Pula(P)</td>\n",
       "      <td>Yes</td>\n",
       "      <td>No</td>\n",
       "      <td>No</td>\n",
       "      <td>No</td>\n",
       "      <td>Green</td>\n",
       "      <td>Very Good</td>\n",
       "      <td>Phillipines</td>\n",
       "      <td>6300002</td>\n",
       "    </tr>\n",
       "    <tr>\n",
       "      <th>3</th>\n",
       "      <td>Ooma</td>\n",
       "      <td>Mandaluyong City</td>\n",
       "      <td>Third Floor, Mega Fashion Hall, SM Megamall, O...</td>\n",
       "      <td>SM Megamall, Ortigas, Mandaluyong City</td>\n",
       "      <td>SM Megamall, Ortigas, Mandaluyong City, Mandal...</td>\n",
       "      <td>Japanese, Sushi</td>\n",
       "      <td>Botswana Pula(P)</td>\n",
       "      <td>No</td>\n",
       "      <td>No</td>\n",
       "      <td>No</td>\n",
       "      <td>No</td>\n",
       "      <td>Dark Green</td>\n",
       "      <td>Excellent</td>\n",
       "      <td>Phillipines</td>\n",
       "      <td>6318506</td>\n",
       "    </tr>\n",
       "    <tr>\n",
       "      <th>4</th>\n",
       "      <td>Sambo Kojin</td>\n",
       "      <td>Mandaluyong City</td>\n",
       "      <td>Third Floor, Mega Atrium, SM Megamall, Ortigas...</td>\n",
       "      <td>SM Megamall, Ortigas, Mandaluyong City</td>\n",
       "      <td>SM Megamall, Ortigas, Mandaluyong City, Mandal...</td>\n",
       "      <td>Japanese, Korean</td>\n",
       "      <td>Botswana Pula(P)</td>\n",
       "      <td>Yes</td>\n",
       "      <td>No</td>\n",
       "      <td>No</td>\n",
       "      <td>No</td>\n",
       "      <td>Dark Green</td>\n",
       "      <td>Excellent</td>\n",
       "      <td>Phillipines</td>\n",
       "      <td>6314302</td>\n",
       "    </tr>\n",
       "  </tbody>\n",
       "</table>\n",
       "</div>"
      ],
      "text/plain": [
       "          Restaurant_Name              City  \\\n",
       "0        Le Petit Souffle       Makati City   \n",
       "1        Izakaya Kikufuji       Makati City   \n",
       "2  Heat - Edsa Shangri-La  Mandaluyong City   \n",
       "3                    Ooma  Mandaluyong City   \n",
       "4             Sambo Kojin  Mandaluyong City   \n",
       "\n",
       "                                             Address  \\\n",
       "0  Third Floor, Century City Mall, Kalayaan Avenu...   \n",
       "1  Little Tokyo, 2277 Chino Roces Avenue, Legaspi...   \n",
       "2  Edsa Shangri-La, 1 Garden Way, Ortigas, Mandal...   \n",
       "3  Third Floor, Mega Fashion Hall, SM Megamall, O...   \n",
       "4  Third Floor, Mega Atrium, SM Megamall, Ortigas...   \n",
       "\n",
       "                                     Locality  \\\n",
       "0   Century City Mall, Poblacion, Makati City   \n",
       "1  Little Tokyo, Legaspi Village, Makati City   \n",
       "2  Edsa Shangri-La, Ortigas, Mandaluyong City   \n",
       "3      SM Megamall, Ortigas, Mandaluyong City   \n",
       "4      SM Megamall, Ortigas, Mandaluyong City   \n",
       "\n",
       "                                    Locality_Verbose  \\\n",
       "0  Century City Mall, Poblacion, Makati City, Mak...   \n",
       "1  Little Tokyo, Legaspi Village, Makati City, Ma...   \n",
       "2  Edsa Shangri-La, Ortigas, Mandaluyong City, Ma...   \n",
       "3  SM Megamall, Ortigas, Mandaluyong City, Mandal...   \n",
       "4  SM Megamall, Ortigas, Mandaluyong City, Mandal...   \n",
       "\n",
       "                           Cuisines          Currency Has_Table_booking  \\\n",
       "0        French, Japanese, Desserts  Botswana Pula(P)               Yes   \n",
       "1                          Japanese  Botswana Pula(P)               Yes   \n",
       "2  Seafood, Asian, Filipino, Indian  Botswana Pula(P)               Yes   \n",
       "3                   Japanese, Sushi  Botswana Pula(P)                No   \n",
       "4                  Japanese, Korean  Botswana Pula(P)               Yes   \n",
       "\n",
       "  Has_Online_delivery Is_delivering_now Switch_to_order_menu Rating_color  \\\n",
       "0                  No                No                   No   Dark Green   \n",
       "1                  No                No                   No   Dark Green   \n",
       "2                  No                No                   No        Green   \n",
       "3                  No                No                   No   Dark Green   \n",
       "4                  No                No                   No   Dark Green   \n",
       "\n",
       "  Rating_text      Country  Restaurant_ID  \n",
       "0   Excellent  Phillipines        6317637  \n",
       "1   Excellent  Phillipines        6304287  \n",
       "2   Very Good  Phillipines        6300002  \n",
       "3   Excellent  Phillipines        6318506  \n",
       "4   Excellent  Phillipines        6314302  "
      ]
     },
     "execution_count": 20,
     "metadata": {},
     "output_type": "execute_result"
    }
   ],
   "source": [
    "cat_data.head()"
   ]
  },
  {
   "cell_type": "code",
   "execution_count": 21,
   "id": "b56d23dd",
   "metadata": {},
   "outputs": [
    {
     "data": {
      "text/plain": [
       "(9551, 15)"
      ]
     },
     "execution_count": 21,
     "metadata": {},
     "output_type": "execute_result"
    }
   ],
   "source": [
    "cat_data.shape"
   ]
  },
  {
   "cell_type": "code",
   "execution_count": 22,
   "id": "e9645814",
   "metadata": {},
   "outputs": [
    {
     "name": "stderr",
     "output_type": "stream",
     "text": [
      "C:\\Users\\Gaya Gopan\\AppData\\Local\\Temp\\ipykernel_12088\\2803963677.py:2: SettingWithCopyWarning: \n",
      "A value is trying to be set on a copy of a slice from a DataFrame.\n",
      "Try using .loc[row_indexer,col_indexer] = value instead\n",
      "\n",
      "See the caveats in the documentation: https://pandas.pydata.org/pandas-docs/stable/user_guide/indexing.html#returning-a-view-versus-a-copy\n",
      "  cat_data[i] = cat_data[i].fillna(cat_data[i].mode())\n"
     ]
    }
   ],
   "source": [
    "for i in cat_data.columns:\n",
    "        cat_data[i] = cat_data[i].fillna(cat_data[i].mode())"
   ]
  },
  {
   "cell_type": "code",
   "execution_count": 23,
   "id": "c374f432",
   "metadata": {},
   "outputs": [
    {
     "data": {
      "text/plain": [
       "Restaurant_Name         0\n",
       "City                    0\n",
       "Address                 0\n",
       "Locality                0\n",
       "Locality_Verbose        0\n",
       "Cuisines                9\n",
       "Currency                0\n",
       "Has_Table_booking       0\n",
       "Has_Online_delivery     0\n",
       "Is_delivering_now       0\n",
       "Switch_to_order_menu    0\n",
       "Rating_color            0\n",
       "Rating_text             0\n",
       "Country                 0\n",
       "Restaurant_ID           0\n",
       "dtype: int64"
      ]
     },
     "execution_count": 23,
     "metadata": {},
     "output_type": "execute_result"
    }
   ],
   "source": [
    "cat_data.isna().sum()"
   ]
  },
  {
   "cell_type": "code",
   "execution_count": 24,
   "id": "3692a1e0",
   "metadata": {},
   "outputs": [
    {
     "data": {
      "text/plain": [
       "Cuisines\n",
       "North Indian                                             936\n",
       "North Indian, Chinese                                    511\n",
       "Chinese                                                  354\n",
       "Fast Food                                                354\n",
       "North Indian, Mughlai                                    334\n",
       "                                                        ... \n",
       "Bengali, Fast Food                                         1\n",
       "North Indian, Rajasthani, Asian                            1\n",
       "Chinese, Thai, Malaysian, Indonesian                       1\n",
       "Bakery, Desserts, North Indian, Bengali, South Indian      1\n",
       "Italian, World Cuisine                                     1\n",
       "Name: count, Length: 1825, dtype: int64"
      ]
     },
     "execution_count": 24,
     "metadata": {},
     "output_type": "execute_result"
    }
   ],
   "source": [
    "cat_data.Cuisines.value_counts()"
   ]
  },
  {
   "cell_type": "code",
   "execution_count": 25,
   "id": "277177c3",
   "metadata": {},
   "outputs": [
    {
     "data": {
      "text/plain": [
       "9551"
      ]
     },
     "execution_count": 25,
     "metadata": {},
     "output_type": "execute_result"
    }
   ],
   "source": [
    "cat_data.Country.count()"
   ]
  },
  {
   "cell_type": "code",
   "execution_count": 26,
   "id": "25346fd0",
   "metadata": {},
   "outputs": [
    {
     "data": {
      "text/plain": [
       "Cuisines\n",
       "North Indian             936\n",
       "North Indian, Chinese    511\n",
       "Chinese                  354\n",
       "Fast Food                354\n",
       "North Indian, Mughlai    334\n",
       "Name: count, dtype: int64"
      ]
     },
     "execution_count": 26,
     "metadata": {},
     "output_type": "execute_result"
    }
   ],
   "source": [
    "cat_data.Cuisines.value_counts().head()"
   ]
  },
  {
   "cell_type": "code",
   "execution_count": 27,
   "id": "60e14068",
   "metadata": {},
   "outputs": [
    {
     "data": {
      "text/html": [
       "<div>\n",
       "<style scoped>\n",
       "    .dataframe tbody tr th:only-of-type {\n",
       "        vertical-align: middle;\n",
       "    }\n",
       "\n",
       "    .dataframe tbody tr th {\n",
       "        vertical-align: top;\n",
       "    }\n",
       "\n",
       "    .dataframe thead th {\n",
       "        text-align: right;\n",
       "    }\n",
       "</style>\n",
       "<table border=\"1\" class=\"dataframe\">\n",
       "  <thead>\n",
       "    <tr style=\"text-align: right;\">\n",
       "      <th></th>\n",
       "      <th>Restaurant_Name</th>\n",
       "      <th>City</th>\n",
       "      <th>Address</th>\n",
       "      <th>Locality</th>\n",
       "      <th>Locality_Verbose</th>\n",
       "      <th>Cuisines</th>\n",
       "      <th>Currency</th>\n",
       "      <th>Has_Table_booking</th>\n",
       "      <th>Has_Online_delivery</th>\n",
       "      <th>Is_delivering_now</th>\n",
       "      <th>Switch_to_order_menu</th>\n",
       "      <th>Rating_color</th>\n",
       "      <th>Rating_text</th>\n",
       "      <th>Country</th>\n",
       "      <th>Restaurant_ID</th>\n",
       "    </tr>\n",
       "  </thead>\n",
       "  <tbody>\n",
       "  </tbody>\n",
       "</table>\n",
       "</div>"
      ],
      "text/plain": [
       "Empty DataFrame\n",
       "Columns: [Restaurant_Name, City, Address, Locality, Locality_Verbose, Cuisines, Currency, Has_Table_booking, Has_Online_delivery, Is_delivering_now, Switch_to_order_menu, Rating_color, Rating_text, Country, Restaurant_ID]\n",
       "Index: []"
      ]
     },
     "execution_count": 27,
     "metadata": {},
     "output_type": "execute_result"
    }
   ],
   "source": [
    "cat_data.loc[cat_data['Cuisines'] == None]"
   ]
  },
  {
   "cell_type": "code",
   "execution_count": 28,
   "id": "42bb2e88",
   "metadata": {},
   "outputs": [
    {
     "data": {
      "text/plain": [
       "84     True\n",
       "87     True\n",
       "94     True\n",
       "288    True\n",
       "312    True\n",
       "328    True\n",
       "349    True\n",
       "395    True\n",
       "432    True\n",
       "Name: Cuisines, dtype: bool"
      ]
     },
     "execution_count": 28,
     "metadata": {},
     "output_type": "execute_result"
    }
   ],
   "source": [
    "s = pd.Series(cat_data.Cuisines.isna())\n",
    "s[s == True]"
   ]
  },
  {
   "cell_type": "code",
   "execution_count": 29,
   "id": "f4f5d6f7",
   "metadata": {},
   "outputs": [
    {
     "data": {
      "text/plain": [
       "Restaurant_Name                          Jimmie's Hot Dogs\n",
       "City                                                Albany\n",
       "Address                 204 S Jackson St, Albany, GA 31701\n",
       "Locality                                            Albany\n",
       "Locality_Verbose                            Albany, Albany\n",
       "Cuisines                                               NaN\n",
       "Currency                                         Dollar($)\n",
       "Has_Table_booking                                       No\n",
       "Has_Online_delivery                                     No\n",
       "Is_delivering_now                                       No\n",
       "Switch_to_order_menu                                    No\n",
       "Rating_color                                        Yellow\n",
       "Rating_text                                           Good\n",
       "Country                                      United States\n",
       "Restaurant_ID                                     17284158\n",
       "Name: 94, dtype: object"
      ]
     },
     "execution_count": 29,
     "metadata": {},
     "output_type": "execute_result"
    }
   ],
   "source": [
    "cat_data.loc[94,]"
   ]
  },
  {
   "cell_type": "code",
   "execution_count": 30,
   "id": "1fd6ec8f",
   "metadata": {},
   "outputs": [
    {
     "name": "stderr",
     "output_type": "stream",
     "text": [
      "C:\\Users\\Gaya Gopan\\AppData\\Local\\Temp\\ipykernel_12088\\3543376501.py:1: SettingWithCopyWarning: \n",
      "A value is trying to be set on a copy of a slice from a DataFrame.\n",
      "Try using .loc[row_indexer,col_indexer] = value instead\n",
      "\n",
      "See the caveats in the documentation: https://pandas.pydata.org/pandas-docs/stable/user_guide/indexing.html#returning-a-view-versus-a-copy\n",
      "  cat_data['Cuisines']  = cat_data['Cuisines'].replace(\"NaN\",None)\n"
     ]
    }
   ],
   "source": [
    "cat_data['Cuisines']  = cat_data['Cuisines'].replace(\"NaN\",None)"
   ]
  },
  {
   "cell_type": "code",
   "execution_count": 31,
   "id": "303eaf8c",
   "metadata": {},
   "outputs": [
    {
     "data": {
      "text/plain": [
       "Cuisines\n",
       "North Indian                                             936\n",
       "North Indian, Chinese                                    511\n",
       "Chinese                                                  354\n",
       "Fast Food                                                354\n",
       "North Indian, Mughlai                                    334\n",
       "                                                        ... \n",
       "Bengali, Fast Food                                         1\n",
       "North Indian, Rajasthani, Asian                            1\n",
       "Chinese, Thai, Malaysian, Indonesian                       1\n",
       "Bakery, Desserts, North Indian, Bengali, South Indian      1\n",
       "Italian, World Cuisine                                     1\n",
       "Name: count, Length: 1825, dtype: int64"
      ]
     },
     "execution_count": 31,
     "metadata": {},
     "output_type": "execute_result"
    }
   ],
   "source": [
    "cat_data.Cuisines.value_counts()"
   ]
  },
  {
   "cell_type": "code",
   "execution_count": 32,
   "id": "3dbca2d5",
   "metadata": {},
   "outputs": [
    {
     "data": {
      "text/plain": [
       "Restaurant_Name         0\n",
       "City                    0\n",
       "Address                 0\n",
       "Locality                0\n",
       "Locality_Verbose        0\n",
       "Cuisines                9\n",
       "Currency                0\n",
       "Has_Table_booking       0\n",
       "Has_Online_delivery     0\n",
       "Is_delivering_now       0\n",
       "Switch_to_order_menu    0\n",
       "Rating_color            0\n",
       "Rating_text             0\n",
       "Country                 0\n",
       "Restaurant_ID           0\n",
       "dtype: int64"
      ]
     },
     "execution_count": 32,
     "metadata": {},
     "output_type": "execute_result"
    }
   ],
   "source": [
    "cat_data.isna().sum()"
   ]
  },
  {
   "cell_type": "code",
   "execution_count": 33,
   "id": "cffee9d2",
   "metadata": {},
   "outputs": [
    {
     "data": {
      "text/plain": [
       "'North Indian'"
      ]
     },
     "execution_count": 33,
     "metadata": {},
     "output_type": "execute_result"
    }
   ],
   "source": [
    "mode_value=cat_data['Cuisines'].mode()[0]\n",
    "mode_value"
   ]
  },
  {
   "cell_type": "code",
   "execution_count": 34,
   "id": "8e856ae7",
   "metadata": {},
   "outputs": [
    {
     "data": {
      "text/plain": [
       "0             French, Japanese, Desserts\n",
       "1                               Japanese\n",
       "2       Seafood, Asian, Filipino, Indian\n",
       "3                        Japanese, Sushi\n",
       "4                       Japanese, Korean\n",
       "                      ...               \n",
       "9546                             Turkish\n",
       "9547     World Cuisine, Patisserie, Cafe\n",
       "9548              Italian, World Cuisine\n",
       "9549                     Restaurant Cafe\n",
       "9550                                Cafe\n",
       "Name: Cuisines, Length: 9551, dtype: object"
      ]
     },
     "execution_count": 34,
     "metadata": {},
     "output_type": "execute_result"
    }
   ],
   "source": [
    "cat_data2=cat_data['Cuisines'].fillna(mode_value)\n",
    "cat_data2"
   ]
  },
  {
   "cell_type": "code",
   "execution_count": 35,
   "id": "a5ff0831",
   "metadata": {},
   "outputs": [
    {
     "data": {
      "text/plain": [
       "0"
      ]
     },
     "execution_count": 35,
     "metadata": {},
     "output_type": "execute_result"
    }
   ],
   "source": [
    "cat_data2.isna().sum()"
   ]
  },
  {
   "cell_type": "code",
   "execution_count": 36,
   "id": "8499d445",
   "metadata": {},
   "outputs": [
    {
     "data": {
      "text/html": [
       "<div>\n",
       "<style scoped>\n",
       "    .dataframe tbody tr th:only-of-type {\n",
       "        vertical-align: middle;\n",
       "    }\n",
       "\n",
       "    .dataframe tbody tr th {\n",
       "        vertical-align: top;\n",
       "    }\n",
       "\n",
       "    .dataframe thead th {\n",
       "        text-align: right;\n",
       "    }\n",
       "</style>\n",
       "<table border=\"1\" class=\"dataframe\">\n",
       "  <thead>\n",
       "    <tr style=\"text-align: right;\">\n",
       "      <th></th>\n",
       "      <th>Restaurant_ID</th>\n",
       "      <th>Country_Code</th>\n",
       "      <th>Longitude</th>\n",
       "      <th>Latitude</th>\n",
       "      <th>Average_Cost_for_two</th>\n",
       "      <th>Price_range</th>\n",
       "      <th>Aggregate_rating</th>\n",
       "      <th>Votes</th>\n",
       "    </tr>\n",
       "  </thead>\n",
       "  <tbody>\n",
       "    <tr>\n",
       "      <th>0</th>\n",
       "      <td>6317637</td>\n",
       "      <td>162</td>\n",
       "      <td>121.027535</td>\n",
       "      <td>14.565443</td>\n",
       "      <td>1100</td>\n",
       "      <td>3</td>\n",
       "      <td>4.8</td>\n",
       "      <td>314</td>\n",
       "    </tr>\n",
       "    <tr>\n",
       "      <th>1</th>\n",
       "      <td>6304287</td>\n",
       "      <td>162</td>\n",
       "      <td>121.014101</td>\n",
       "      <td>14.553708</td>\n",
       "      <td>1200</td>\n",
       "      <td>3</td>\n",
       "      <td>4.5</td>\n",
       "      <td>591</td>\n",
       "    </tr>\n",
       "    <tr>\n",
       "      <th>2</th>\n",
       "      <td>6300002</td>\n",
       "      <td>162</td>\n",
       "      <td>121.056831</td>\n",
       "      <td>14.581404</td>\n",
       "      <td>4000</td>\n",
       "      <td>4</td>\n",
       "      <td>4.4</td>\n",
       "      <td>270</td>\n",
       "    </tr>\n",
       "    <tr>\n",
       "      <th>3</th>\n",
       "      <td>6318506</td>\n",
       "      <td>162</td>\n",
       "      <td>121.056475</td>\n",
       "      <td>14.585318</td>\n",
       "      <td>1500</td>\n",
       "      <td>4</td>\n",
       "      <td>4.9</td>\n",
       "      <td>365</td>\n",
       "    </tr>\n",
       "    <tr>\n",
       "      <th>4</th>\n",
       "      <td>6314302</td>\n",
       "      <td>162</td>\n",
       "      <td>121.057508</td>\n",
       "      <td>14.584450</td>\n",
       "      <td>1500</td>\n",
       "      <td>4</td>\n",
       "      <td>4.8</td>\n",
       "      <td>229</td>\n",
       "    </tr>\n",
       "  </tbody>\n",
       "</table>\n",
       "</div>"
      ],
      "text/plain": [
       "   Restaurant_ID  Country_Code   Longitude   Latitude  Average_Cost_for_two  \\\n",
       "0        6317637           162  121.027535  14.565443                  1100   \n",
       "1        6304287           162  121.014101  14.553708                  1200   \n",
       "2        6300002           162  121.056831  14.581404                  4000   \n",
       "3        6318506           162  121.056475  14.585318                  1500   \n",
       "4        6314302           162  121.057508  14.584450                  1500   \n",
       "\n",
       "   Price_range  Aggregate_rating  Votes  \n",
       "0            3               4.8    314  \n",
       "1            3               4.5    591  \n",
       "2            4               4.4    270  \n",
       "3            4               4.9    365  \n",
       "4            4               4.8    229  "
      ]
     },
     "execution_count": 36,
     "metadata": {},
     "output_type": "execute_result"
    }
   ],
   "source": [
    "num = [var for var in final_data.columns if final_data[var].dtype != 'O']\n",
    "num_data = final_data[num]\n",
    "num_data.head()"
   ]
  },
  {
   "cell_type": "markdown",
   "id": "df2dc273",
   "metadata": {},
   "source": [
    "## checking the value count and nunique of categorical variable"
   ]
  },
  {
   "cell_type": "code",
   "execution_count": 37,
   "id": "80b5b2b0",
   "metadata": {},
   "outputs": [
    {
     "data": {
      "text/plain": [
       "Restaurant_Name\n",
       "Cafe Coffee Day             83\n",
       "Domino's Pizza              79\n",
       "Subway                      63\n",
       "Green Chick Chop            51\n",
       "McDonald's                  48\n",
       "                            ..\n",
       "Odeon Social                 1\n",
       "Johnny Rockets               1\n",
       "House of Commons             1\n",
       "HotMess                      1\n",
       "Walter's Coffee Roastery     1\n",
       "Name: count, Length: 7446, dtype: int64"
      ]
     },
     "execution_count": 37,
     "metadata": {},
     "output_type": "execute_result"
    }
   ],
   "source": [
    "cat_data.Restaurant_Name.value_counts()"
   ]
  },
  {
   "cell_type": "code",
   "execution_count": 38,
   "id": "ce215b52",
   "metadata": {},
   "outputs": [
    {
     "data": {
      "text/plain": [
       "7446"
      ]
     },
     "execution_count": 38,
     "metadata": {},
     "output_type": "execute_result"
    }
   ],
   "source": [
    "cat_data.Restaurant_Name.nunique()"
   ]
  },
  {
   "cell_type": "code",
   "execution_count": 39,
   "id": "035a72ce",
   "metadata": {},
   "outputs": [
    {
     "data": {
      "text/plain": [
       "City\n",
       "New Delhi       5473\n",
       "Gurgaon         1118\n",
       "Noida           1080\n",
       "Faridabad        251\n",
       "Ghaziabad         25\n",
       "                ... \n",
       "Huskisson          1\n",
       "Panchkula          1\n",
       "Forrest            1\n",
       "Flaxton            1\n",
       "Chatham-Kent       1\n",
       "Name: count, Length: 141, dtype: int64"
      ]
     },
     "execution_count": 39,
     "metadata": {},
     "output_type": "execute_result"
    }
   ],
   "source": [
    "cat_data.City.value_counts()"
   ]
  },
  {
   "cell_type": "code",
   "execution_count": 40,
   "id": "12707457",
   "metadata": {},
   "outputs": [
    {
     "data": {
      "text/plain": [
       "141"
      ]
     },
     "execution_count": 40,
     "metadata": {},
     "output_type": "execute_result"
    }
   ],
   "source": [
    "cat_data.City.nunique()"
   ]
  },
  {
   "cell_type": "code",
   "execution_count": 41,
   "id": "cdc1abef",
   "metadata": {},
   "outputs": [
    {
     "data": {
      "text/plain": [
       "Currency\n",
       "Indian Rupees(Rs.)        8652\n",
       "Dollar($)                  482\n",
       "Pounds(£)                  80\n",
       "Brazilian Real(R$)          60\n",
       "Emirati Diram(AED)          60\n",
       "Rand(R)                     60\n",
       "NewZealand($)               40\n",
       "Turkish Lira(TL)            34\n",
       "Botswana Pula(P)            22\n",
       "Indonesian Rupiah(IDR)      21\n",
       "Qatari Rial(QR)             20\n",
       "Sri Lankan Rupee(LKR)       20\n",
       "Name: count, dtype: int64"
      ]
     },
     "execution_count": 41,
     "metadata": {},
     "output_type": "execute_result"
    }
   ],
   "source": [
    "cat_data.Currency.value_counts()"
   ]
  },
  {
   "cell_type": "code",
   "execution_count": 42,
   "id": "38fbba41",
   "metadata": {},
   "outputs": [
    {
     "data": {
      "text/plain": [
       "12"
      ]
     },
     "execution_count": 42,
     "metadata": {},
     "output_type": "execute_result"
    }
   ],
   "source": [
    "cat_data.Currency.nunique()"
   ]
  },
  {
   "cell_type": "code",
   "execution_count": 43,
   "id": "762c9be3",
   "metadata": {},
   "outputs": [
    {
     "data": {
      "text/plain": [
       "Cuisines\n",
       "North Indian                                             936\n",
       "North Indian, Chinese                                    511\n",
       "Chinese                                                  354\n",
       "Fast Food                                                354\n",
       "North Indian, Mughlai                                    334\n",
       "                                                        ... \n",
       "Bengali, Fast Food                                         1\n",
       "North Indian, Rajasthani, Asian                            1\n",
       "Chinese, Thai, Malaysian, Indonesian                       1\n",
       "Bakery, Desserts, North Indian, Bengali, South Indian      1\n",
       "Italian, World Cuisine                                     1\n",
       "Name: count, Length: 1825, dtype: int64"
      ]
     },
     "execution_count": 43,
     "metadata": {},
     "output_type": "execute_result"
    }
   ],
   "source": [
    "cat_data.Cuisines.value_counts()"
   ]
  },
  {
   "cell_type": "code",
   "execution_count": 44,
   "id": "cbd33c65",
   "metadata": {},
   "outputs": [
    {
     "data": {
      "text/plain": [
       "1825"
      ]
     },
     "execution_count": 44,
     "metadata": {},
     "output_type": "execute_result"
    }
   ],
   "source": [
    "cat_data.Cuisines.nunique()"
   ]
  },
  {
   "cell_type": "code",
   "execution_count": 45,
   "id": "8972aa0f",
   "metadata": {},
   "outputs": [
    {
     "data": {
      "text/plain": [
       "Has_Table_booking\n",
       "No     8393\n",
       "Yes    1158\n",
       "Name: count, dtype: int64"
      ]
     },
     "execution_count": 45,
     "metadata": {},
     "output_type": "execute_result"
    }
   ],
   "source": [
    "cat_data.Has_Table_booking.value_counts()"
   ]
  },
  {
   "cell_type": "code",
   "execution_count": 46,
   "id": "e8d5a191",
   "metadata": {},
   "outputs": [
    {
     "data": {
      "text/plain": [
       "2"
      ]
     },
     "execution_count": 46,
     "metadata": {},
     "output_type": "execute_result"
    }
   ],
   "source": [
    "cat_data.Has_Table_booking.nunique()"
   ]
  },
  {
   "cell_type": "markdown",
   "id": "3ddf2291",
   "metadata": {},
   "source": [
    "## Outlier Treatment"
   ]
  },
  {
   "cell_type": "code",
   "execution_count": 47,
   "id": "544a391f",
   "metadata": {},
   "outputs": [
    {
     "data": {
      "text/html": [
       "<div>\n",
       "<style scoped>\n",
       "    .dataframe tbody tr th:only-of-type {\n",
       "        vertical-align: middle;\n",
       "    }\n",
       "\n",
       "    .dataframe tbody tr th {\n",
       "        vertical-align: top;\n",
       "    }\n",
       "\n",
       "    .dataframe thead th {\n",
       "        text-align: right;\n",
       "    }\n",
       "</style>\n",
       "<table border=\"1\" class=\"dataframe\">\n",
       "  <thead>\n",
       "    <tr style=\"text-align: right;\">\n",
       "      <th></th>\n",
       "      <th>Restaurant_ID</th>\n",
       "      <th>Restaurant_Name</th>\n",
       "      <th>Country_Code</th>\n",
       "      <th>City</th>\n",
       "      <th>Address</th>\n",
       "      <th>Locality</th>\n",
       "      <th>Locality_Verbose</th>\n",
       "      <th>Longitude</th>\n",
       "      <th>Latitude</th>\n",
       "      <th>Cuisines</th>\n",
       "      <th>...</th>\n",
       "      <th>Has_Table_booking</th>\n",
       "      <th>Has_Online_delivery</th>\n",
       "      <th>Is_delivering_now</th>\n",
       "      <th>Switch_to_order_menu</th>\n",
       "      <th>Price_range</th>\n",
       "      <th>Aggregate_rating</th>\n",
       "      <th>Rating_color</th>\n",
       "      <th>Rating_text</th>\n",
       "      <th>Votes</th>\n",
       "      <th>Country</th>\n",
       "    </tr>\n",
       "  </thead>\n",
       "  <tbody>\n",
       "    <tr>\n",
       "      <th>0</th>\n",
       "      <td>6317637</td>\n",
       "      <td>Le Petit Souffle</td>\n",
       "      <td>162</td>\n",
       "      <td>Makati City</td>\n",
       "      <td>Third Floor, Century City Mall, Kalayaan Avenu...</td>\n",
       "      <td>Century City Mall, Poblacion, Makati City</td>\n",
       "      <td>Century City Mall, Poblacion, Makati City, Mak...</td>\n",
       "      <td>121.027535</td>\n",
       "      <td>14.565443</td>\n",
       "      <td>French, Japanese, Desserts</td>\n",
       "      <td>...</td>\n",
       "      <td>Yes</td>\n",
       "      <td>No</td>\n",
       "      <td>No</td>\n",
       "      <td>No</td>\n",
       "      <td>3</td>\n",
       "      <td>4.8</td>\n",
       "      <td>Dark Green</td>\n",
       "      <td>Excellent</td>\n",
       "      <td>314</td>\n",
       "      <td>Phillipines</td>\n",
       "    </tr>\n",
       "    <tr>\n",
       "      <th>1</th>\n",
       "      <td>6304287</td>\n",
       "      <td>Izakaya Kikufuji</td>\n",
       "      <td>162</td>\n",
       "      <td>Makati City</td>\n",
       "      <td>Little Tokyo, 2277 Chino Roces Avenue, Legaspi...</td>\n",
       "      <td>Little Tokyo, Legaspi Village, Makati City</td>\n",
       "      <td>Little Tokyo, Legaspi Village, Makati City, Ma...</td>\n",
       "      <td>121.014101</td>\n",
       "      <td>14.553708</td>\n",
       "      <td>Japanese</td>\n",
       "      <td>...</td>\n",
       "      <td>Yes</td>\n",
       "      <td>No</td>\n",
       "      <td>No</td>\n",
       "      <td>No</td>\n",
       "      <td>3</td>\n",
       "      <td>4.5</td>\n",
       "      <td>Dark Green</td>\n",
       "      <td>Excellent</td>\n",
       "      <td>591</td>\n",
       "      <td>Phillipines</td>\n",
       "    </tr>\n",
       "    <tr>\n",
       "      <th>2</th>\n",
       "      <td>6300002</td>\n",
       "      <td>Heat - Edsa Shangri-La</td>\n",
       "      <td>162</td>\n",
       "      <td>Mandaluyong City</td>\n",
       "      <td>Edsa Shangri-La, 1 Garden Way, Ortigas, Mandal...</td>\n",
       "      <td>Edsa Shangri-La, Ortigas, Mandaluyong City</td>\n",
       "      <td>Edsa Shangri-La, Ortigas, Mandaluyong City, Ma...</td>\n",
       "      <td>121.056831</td>\n",
       "      <td>14.581404</td>\n",
       "      <td>Seafood, Asian, Filipino, Indian</td>\n",
       "      <td>...</td>\n",
       "      <td>Yes</td>\n",
       "      <td>No</td>\n",
       "      <td>No</td>\n",
       "      <td>No</td>\n",
       "      <td>4</td>\n",
       "      <td>4.4</td>\n",
       "      <td>Green</td>\n",
       "      <td>Very Good</td>\n",
       "      <td>270</td>\n",
       "      <td>Phillipines</td>\n",
       "    </tr>\n",
       "    <tr>\n",
       "      <th>3</th>\n",
       "      <td>6318506</td>\n",
       "      <td>Ooma</td>\n",
       "      <td>162</td>\n",
       "      <td>Mandaluyong City</td>\n",
       "      <td>Third Floor, Mega Fashion Hall, SM Megamall, O...</td>\n",
       "      <td>SM Megamall, Ortigas, Mandaluyong City</td>\n",
       "      <td>SM Megamall, Ortigas, Mandaluyong City, Mandal...</td>\n",
       "      <td>121.056475</td>\n",
       "      <td>14.585318</td>\n",
       "      <td>Japanese, Sushi</td>\n",
       "      <td>...</td>\n",
       "      <td>No</td>\n",
       "      <td>No</td>\n",
       "      <td>No</td>\n",
       "      <td>No</td>\n",
       "      <td>4</td>\n",
       "      <td>4.9</td>\n",
       "      <td>Dark Green</td>\n",
       "      <td>Excellent</td>\n",
       "      <td>365</td>\n",
       "      <td>Phillipines</td>\n",
       "    </tr>\n",
       "    <tr>\n",
       "      <th>4</th>\n",
       "      <td>6314302</td>\n",
       "      <td>Sambo Kojin</td>\n",
       "      <td>162</td>\n",
       "      <td>Mandaluyong City</td>\n",
       "      <td>Third Floor, Mega Atrium, SM Megamall, Ortigas...</td>\n",
       "      <td>SM Megamall, Ortigas, Mandaluyong City</td>\n",
       "      <td>SM Megamall, Ortigas, Mandaluyong City, Mandal...</td>\n",
       "      <td>121.057508</td>\n",
       "      <td>14.584450</td>\n",
       "      <td>Japanese, Korean</td>\n",
       "      <td>...</td>\n",
       "      <td>Yes</td>\n",
       "      <td>No</td>\n",
       "      <td>No</td>\n",
       "      <td>No</td>\n",
       "      <td>4</td>\n",
       "      <td>4.8</td>\n",
       "      <td>Dark Green</td>\n",
       "      <td>Excellent</td>\n",
       "      <td>229</td>\n",
       "      <td>Phillipines</td>\n",
       "    </tr>\n",
       "  </tbody>\n",
       "</table>\n",
       "<p>5 rows × 22 columns</p>\n",
       "</div>"
      ],
      "text/plain": [
       "   Restaurant_ID         Restaurant_Name  Country_Code              City  \\\n",
       "0        6317637        Le Petit Souffle           162       Makati City   \n",
       "1        6304287        Izakaya Kikufuji           162       Makati City   \n",
       "2        6300002  Heat - Edsa Shangri-La           162  Mandaluyong City   \n",
       "3        6318506                    Ooma           162  Mandaluyong City   \n",
       "4        6314302             Sambo Kojin           162  Mandaluyong City   \n",
       "\n",
       "                                             Address  \\\n",
       "0  Third Floor, Century City Mall, Kalayaan Avenu...   \n",
       "1  Little Tokyo, 2277 Chino Roces Avenue, Legaspi...   \n",
       "2  Edsa Shangri-La, 1 Garden Way, Ortigas, Mandal...   \n",
       "3  Third Floor, Mega Fashion Hall, SM Megamall, O...   \n",
       "4  Third Floor, Mega Atrium, SM Megamall, Ortigas...   \n",
       "\n",
       "                                     Locality  \\\n",
       "0   Century City Mall, Poblacion, Makati City   \n",
       "1  Little Tokyo, Legaspi Village, Makati City   \n",
       "2  Edsa Shangri-La, Ortigas, Mandaluyong City   \n",
       "3      SM Megamall, Ortigas, Mandaluyong City   \n",
       "4      SM Megamall, Ortigas, Mandaluyong City   \n",
       "\n",
       "                                    Locality_Verbose   Longitude   Latitude  \\\n",
       "0  Century City Mall, Poblacion, Makati City, Mak...  121.027535  14.565443   \n",
       "1  Little Tokyo, Legaspi Village, Makati City, Ma...  121.014101  14.553708   \n",
       "2  Edsa Shangri-La, Ortigas, Mandaluyong City, Ma...  121.056831  14.581404   \n",
       "3  SM Megamall, Ortigas, Mandaluyong City, Mandal...  121.056475  14.585318   \n",
       "4  SM Megamall, Ortigas, Mandaluyong City, Mandal...  121.057508  14.584450   \n",
       "\n",
       "                           Cuisines  ...  Has_Table_booking  \\\n",
       "0        French, Japanese, Desserts  ...                Yes   \n",
       "1                          Japanese  ...                Yes   \n",
       "2  Seafood, Asian, Filipino, Indian  ...                Yes   \n",
       "3                   Japanese, Sushi  ...                 No   \n",
       "4                  Japanese, Korean  ...                Yes   \n",
       "\n",
       "  Has_Online_delivery Is_delivering_now Switch_to_order_menu Price_range  \\\n",
       "0                  No                No                   No           3   \n",
       "1                  No                No                   No           3   \n",
       "2                  No                No                   No           4   \n",
       "3                  No                No                   No           4   \n",
       "4                  No                No                   No           4   \n",
       "\n",
       "  Aggregate_rating  Rating_color  Rating_text Votes      Country  \n",
       "0              4.8    Dark Green    Excellent   314  Phillipines  \n",
       "1              4.5    Dark Green    Excellent   591  Phillipines  \n",
       "2              4.4         Green    Very Good   270  Phillipines  \n",
       "3              4.9    Dark Green    Excellent   365  Phillipines  \n",
       "4              4.8    Dark Green    Excellent   229  Phillipines  \n",
       "\n",
       "[5 rows x 22 columns]"
      ]
     },
     "execution_count": 47,
     "metadata": {},
     "output_type": "execute_result"
    }
   ],
   "source": [
    "final_data.head()"
   ]
  },
  {
   "cell_type": "markdown",
   "id": "8eb84b37",
   "metadata": {},
   "source": [
    "## observing a single column for the outliers"
   ]
  },
  {
   "cell_type": "code",
   "execution_count": 48,
   "id": "534a60d9",
   "metadata": {},
   "outputs": [
    {
     "data": {
      "text/html": [
       "<div>\n",
       "<style scoped>\n",
       "    .dataframe tbody tr th:only-of-type {\n",
       "        vertical-align: middle;\n",
       "    }\n",
       "\n",
       "    .dataframe tbody tr th {\n",
       "        vertical-align: top;\n",
       "    }\n",
       "\n",
       "    .dataframe thead th {\n",
       "        text-align: right;\n",
       "    }\n",
       "</style>\n",
       "<table border=\"1\" class=\"dataframe\">\n",
       "  <thead>\n",
       "    <tr style=\"text-align: right;\">\n",
       "      <th></th>\n",
       "      <th>Restaurant_ID</th>\n",
       "      <th>Country_Code</th>\n",
       "      <th>Longitude</th>\n",
       "      <th>Latitude</th>\n",
       "      <th>Average_Cost_for_two</th>\n",
       "      <th>Price_range</th>\n",
       "      <th>Aggregate_rating</th>\n",
       "      <th>Votes</th>\n",
       "    </tr>\n",
       "  </thead>\n",
       "  <tbody>\n",
       "    <tr>\n",
       "      <th>count</th>\n",
       "      <td>9.551000e+03</td>\n",
       "      <td>9551.000000</td>\n",
       "      <td>9551.000000</td>\n",
       "      <td>9551.000000</td>\n",
       "      <td>9551.000000</td>\n",
       "      <td>9551.000000</td>\n",
       "      <td>9551.000000</td>\n",
       "      <td>9551.000000</td>\n",
       "    </tr>\n",
       "    <tr>\n",
       "      <th>mean</th>\n",
       "      <td>9.051128e+06</td>\n",
       "      <td>18.365616</td>\n",
       "      <td>64.126574</td>\n",
       "      <td>25.854381</td>\n",
       "      <td>1199.210763</td>\n",
       "      <td>1.804837</td>\n",
       "      <td>2.666370</td>\n",
       "      <td>156.909748</td>\n",
       "    </tr>\n",
       "    <tr>\n",
       "      <th>std</th>\n",
       "      <td>8.791521e+06</td>\n",
       "      <td>56.750546</td>\n",
       "      <td>41.467058</td>\n",
       "      <td>11.007935</td>\n",
       "      <td>16121.183073</td>\n",
       "      <td>0.905609</td>\n",
       "      <td>1.516378</td>\n",
       "      <td>430.169145</td>\n",
       "    </tr>\n",
       "    <tr>\n",
       "      <th>min</th>\n",
       "      <td>5.300000e+01</td>\n",
       "      <td>1.000000</td>\n",
       "      <td>-157.948486</td>\n",
       "      <td>-41.330428</td>\n",
       "      <td>0.000000</td>\n",
       "      <td>1.000000</td>\n",
       "      <td>0.000000</td>\n",
       "      <td>0.000000</td>\n",
       "    </tr>\n",
       "    <tr>\n",
       "      <th>25%</th>\n",
       "      <td>3.019625e+05</td>\n",
       "      <td>1.000000</td>\n",
       "      <td>77.081343</td>\n",
       "      <td>28.478713</td>\n",
       "      <td>250.000000</td>\n",
       "      <td>1.000000</td>\n",
       "      <td>2.500000</td>\n",
       "      <td>5.000000</td>\n",
       "    </tr>\n",
       "    <tr>\n",
       "      <th>50%</th>\n",
       "      <td>6.004089e+06</td>\n",
       "      <td>1.000000</td>\n",
       "      <td>77.191964</td>\n",
       "      <td>28.570469</td>\n",
       "      <td>400.000000</td>\n",
       "      <td>2.000000</td>\n",
       "      <td>3.200000</td>\n",
       "      <td>31.000000</td>\n",
       "    </tr>\n",
       "    <tr>\n",
       "      <th>75%</th>\n",
       "      <td>1.835229e+07</td>\n",
       "      <td>1.000000</td>\n",
       "      <td>77.282006</td>\n",
       "      <td>28.642758</td>\n",
       "      <td>700.000000</td>\n",
       "      <td>2.000000</td>\n",
       "      <td>3.700000</td>\n",
       "      <td>131.000000</td>\n",
       "    </tr>\n",
       "    <tr>\n",
       "      <th>max</th>\n",
       "      <td>1.850065e+07</td>\n",
       "      <td>216.000000</td>\n",
       "      <td>174.832089</td>\n",
       "      <td>55.976980</td>\n",
       "      <td>800000.000000</td>\n",
       "      <td>4.000000</td>\n",
       "      <td>4.900000</td>\n",
       "      <td>10934.000000</td>\n",
       "    </tr>\n",
       "  </tbody>\n",
       "</table>\n",
       "</div>"
      ],
      "text/plain": [
       "       Restaurant_ID  Country_Code    Longitude     Latitude  \\\n",
       "count   9.551000e+03   9551.000000  9551.000000  9551.000000   \n",
       "mean    9.051128e+06     18.365616    64.126574    25.854381   \n",
       "std     8.791521e+06     56.750546    41.467058    11.007935   \n",
       "min     5.300000e+01      1.000000  -157.948486   -41.330428   \n",
       "25%     3.019625e+05      1.000000    77.081343    28.478713   \n",
       "50%     6.004089e+06      1.000000    77.191964    28.570469   \n",
       "75%     1.835229e+07      1.000000    77.282006    28.642758   \n",
       "max     1.850065e+07    216.000000   174.832089    55.976980   \n",
       "\n",
       "       Average_Cost_for_two  Price_range  Aggregate_rating         Votes  \n",
       "count           9551.000000  9551.000000       9551.000000   9551.000000  \n",
       "mean            1199.210763     1.804837          2.666370    156.909748  \n",
       "std            16121.183073     0.905609          1.516378    430.169145  \n",
       "min                0.000000     1.000000          0.000000      0.000000  \n",
       "25%              250.000000     1.000000          2.500000      5.000000  \n",
       "50%              400.000000     2.000000          3.200000     31.000000  \n",
       "75%              700.000000     2.000000          3.700000    131.000000  \n",
       "max           800000.000000     4.000000          4.900000  10934.000000  "
      ]
     },
     "execution_count": 48,
     "metadata": {},
     "output_type": "execute_result"
    }
   ],
   "source": [
    "final_data.describe()"
   ]
  },
  {
   "cell_type": "code",
   "execution_count": 49,
   "id": "eb775510",
   "metadata": {},
   "outputs": [
    {
     "data": {
      "text/plain": [
       "0"
      ]
     },
     "execution_count": 49,
     "metadata": {},
     "output_type": "execute_result"
    }
   ],
   "source": [
    " min_Amt = final_data.Average_Cost_for_two.min()\n",
    "min_Amt"
   ]
  },
  {
   "cell_type": "code",
   "execution_count": 50,
   "id": "9083d06b",
   "metadata": {},
   "outputs": [
    {
     "data": {
      "text/plain": [
       "800000"
      ]
     },
     "execution_count": 50,
     "metadata": {},
     "output_type": "execute_result"
    }
   ],
   "source": [
    "max_Amt = final_data.Average_Cost_for_two.max()\n",
    "max_Amt"
   ]
  },
  {
   "cell_type": "markdown",
   "id": "7c85d7b1",
   "metadata": {},
   "source": [
    "**quantile() helps to find the percentile vaues at each percentile mark**"
   ]
  },
  {
   "cell_type": "code",
   "execution_count": 51,
   "id": "ba156ec2",
   "metadata": {},
   "outputs": [
    {
     "data": {
      "text/plain": [
       "400.0"
      ]
     },
     "execution_count": 51,
     "metadata": {},
     "output_type": "execute_result"
    }
   ],
   "source": [
    "median = final_data.Average_Cost_for_two.quantile(0.5)\n",
    "median"
   ]
  },
  {
   "cell_type": "code",
   "execution_count": 52,
   "id": "56128e33",
   "metadata": {},
   "outputs": [],
   "source": [
    "f_q = final_data.Average_Cost_for_two.quantile(0.25)\n",
    "t_q = final_data.Average_Cost_for_two.quantile(0.75)\n",
    "p_1 = final_data.Average_Cost_for_two.quantile(0.01)\n",
    "p_99 = final_data.Average_Cost_for_two.quantile(0.99)"
   ]
  },
  {
   "cell_type": "code",
   "execution_count": 53,
   "id": "14d7e44e",
   "metadata": {},
   "outputs": [
    {
     "name": "stdout",
     "output_type": "stream",
     "text": [
      "First quartile: 250.0\n",
      "Third quartile: 700.0\n",
      "Bottom 1%ile cutoff: 10.0\n",
      "Top 1%ile cutoff: 3400.0\n"
     ]
    }
   ],
   "source": [
    "print(\"First quartile:\",f_q)\n",
    "print(\"Third quartile:\",t_q)\n",
    "print(\"Bottom 1%ile cutoff:\",p_1)\n",
    "print(\"Top 1%ile cutoff:\",p_99)"
   ]
  },
  {
   "cell_type": "code",
   "execution_count": 54,
   "id": "31b5fae6",
   "metadata": {},
   "outputs": [
    {
     "data": {
      "text/plain": [
       "450.0"
      ]
     },
     "execution_count": 54,
     "metadata": {},
     "output_type": "execute_result"
    }
   ],
   "source": [
    "#iqr = q3 - q1\n",
    "iqr = 700.0 - 250.0\n",
    "iqr"
   ]
  },
  {
   "cell_type": "code",
   "execution_count": 55,
   "id": "faf0a9d9",
   "metadata": {},
   "outputs": [],
   "source": [
    "#lc = q1 - 1.5*iqr\n",
    "#uc = q3 + 1.5*iqr"
   ]
  },
  {
   "cell_type": "code",
   "execution_count": 56,
   "id": "7fe812a4",
   "metadata": {},
   "outputs": [
    {
     "data": {
      "text/plain": [
       "-425.0"
      ]
     },
     "execution_count": 56,
     "metadata": {},
     "output_type": "execute_result"
    }
   ],
   "source": [
    "lc = 250.0 - (1.5*iqr)\n",
    "lc"
   ]
  },
  {
   "cell_type": "code",
   "execution_count": 57,
   "id": "b13c94d6",
   "metadata": {},
   "outputs": [
    {
     "data": {
      "text/plain": [
       "1375.0"
      ]
     },
     "execution_count": 57,
     "metadata": {},
     "output_type": "execute_result"
    }
   ],
   "source": [
    "uc = 700.0 + (1.5*iqr)\n",
    "uc"
   ]
  },
  {
   "cell_type": "code",
   "execution_count": 58,
   "id": "76635f80",
   "metadata": {},
   "outputs": [
    {
     "data": {
      "text/plain": [
       "<Axes: >"
      ]
     },
     "execution_count": 58,
     "metadata": {},
     "output_type": "execute_result"
    },
    {
     "data": {
      "image/png": "[encoded data removed]",
      "text/plain": [
       "<Figure size 640x480 with 1 Axes>"
      ]
     },
     "metadata": {},
     "output_type": "display_data"
    }
   ],
   "source": [
    "sns.boxplot(final_data.Average_Cost_for_two)"
   ]
  },
  {
   "cell_type": "code",
   "execution_count": 59,
   "id": "538abed6",
   "metadata": {},
   "outputs": [
    {
     "data": {
      "text/plain": [
       "<Axes: >"
      ]
     },
     "execution_count": 59,
     "metadata": {},
     "output_type": "execute_result"
    },
    {
     "data": {
      "image/png": "[encoded data removed]",
      "text/plain": [
       "<Figure size 640x480 with 1 Axes>"
      ]
     },
     "metadata": {},
     "output_type": "display_data"
    }
   ],
   "source": [
    "sns.boxplot(final_data.Price_range)"
   ]
  },
  {
   "cell_type": "code",
   "execution_count": 60,
   "id": "829febc3",
   "metadata": {},
   "outputs": [
    {
     "data": {
      "text/plain": [
       "<Axes: >"
      ]
     },
     "execution_count": 60,
     "metadata": {},
     "output_type": "execute_result"
    },
    {
     "data": {
      "image/png": "[encoded data removed]",
      "text/plain": [
       "<Figure size 640x480 with 1 Axes>"
      ]
     },
     "metadata": {},
     "output_type": "display_data"
    }
   ],
   "source": [
    "sns.boxplot(final_data.Aggregate_rating)"
   ]
  },
  {
   "cell_type": "code",
   "execution_count": 61,
   "id": "e1f503c2",
   "metadata": {},
   "outputs": [
    {
     "data": {
      "text/plain": [
       "<Axes: >"
      ]
     },
     "execution_count": 61,
     "metadata": {},
     "output_type": "execute_result"
    },
    {
     "data": {
      "image/png": "[encoded data removed]",
      "text/plain": [
       "<Figure size 640x480 with 1 Axes>"
      ]
     },
     "metadata": {},
     "output_type": "display_data"
    }
   ],
   "source": [
    "sns.boxplot(final_data.Votes)"
   ]
  },
  {
   "cell_type": "code",
   "execution_count": 62,
   "id": "166b33e8",
   "metadata": {},
   "outputs": [
    {
     "data": {
      "text/plain": [
       "-425.0"
      ]
     },
     "execution_count": 62,
     "metadata": {},
     "output_type": "execute_result"
    }
   ],
   "source": [
    "lc"
   ]
  },
  {
   "cell_type": "code",
   "execution_count": 63,
   "id": "590c6ba2",
   "metadata": {},
   "outputs": [
    {
     "data": {
      "text/plain": [
       "1375.0"
      ]
     },
     "execution_count": 63,
     "metadata": {},
     "output_type": "execute_result"
    }
   ],
   "source": [
    "uc"
   ]
  },
  {
   "cell_type": "code",
   "execution_count": 64,
   "id": "c55a703d",
   "metadata": {},
   "outputs": [],
   "source": [
    "final_data['Average_Cost_for_two'] = final_data.Average_Cost_for_two.clip(lower = lc, upper = uc)"
   ]
  },
  {
   "cell_type": "code",
   "execution_count": 65,
   "id": "9baf26c0",
   "metadata": {},
   "outputs": [
    {
     "data": {
      "text/plain": [
       "<Axes: >"
      ]
     },
     "execution_count": 65,
     "metadata": {},
     "output_type": "execute_result"
    },
    {
     "data": {
      "image/png": "[encoded data removed]",
      "text/plain": [
       "<Figure size 640x480 with 1 Axes>"
      ]
     },
     "metadata": {},
     "output_type": "display_data"
    }
   ],
   "source": [
    "sns.boxplot(final_data.Average_Cost_for_two)"
   ]
  },
  {
   "cell_type": "code",
   "execution_count": 66,
   "id": "4ace4232",
   "metadata": {},
   "outputs": [
    {
     "data": {
      "text/plain": [
       "31.0"
      ]
     },
     "execution_count": 66,
     "metadata": {},
     "output_type": "execute_result"
    }
   ],
   "source": [
    "median = final_data.Votes.quantile(0.5)\n",
    "median"
   ]
  },
  {
   "cell_type": "code",
   "execution_count": 67,
   "id": "26a234b4",
   "metadata": {},
   "outputs": [],
   "source": [
    "f_q = final_data.Votes.quantile(0.25)\n",
    "t_q = final_data.Votes.quantile(0.75)\n",
    "p_1 = final_data.Votes.quantile(0.01)\n",
    "p_99 = final_data.Votes.quantile(0.99)"
   ]
  },
  {
   "cell_type": "code",
   "execution_count": 68,
   "id": "15436292",
   "metadata": {},
   "outputs": [
    {
     "name": "stdout",
     "output_type": "stream",
     "text": [
      "First quartile: 5.0\n",
      "Third quartile: 131.0\n",
      "Bottom 1%ile cutoff: 0.0\n",
      "Top 1%ile cutoff: 1882.5\n"
     ]
    }
   ],
   "source": [
    "print(\"First quartile:\",f_q)\n",
    "print(\"Third quartile:\",t_q)\n",
    "print(\"Bottom 1%ile cutoff:\",p_1)\n",
    "print(\"Top 1%ile cutoff:\",p_99)"
   ]
  },
  {
   "cell_type": "code",
   "execution_count": 69,
   "id": "4f6c7964",
   "metadata": {},
   "outputs": [
    {
     "data": {
      "text/plain": [
       "126.0"
      ]
     },
     "execution_count": 69,
     "metadata": {},
     "output_type": "execute_result"
    }
   ],
   "source": [
    "#iqr = q3 - q1\n",
    "iqr = 131.0 - 5.0\n",
    "iqr"
   ]
  },
  {
   "cell_type": "code",
   "execution_count": 70,
   "id": "42b0ce90",
   "metadata": {},
   "outputs": [
    {
     "data": {
      "text/plain": [
       "-184.0"
      ]
     },
     "execution_count": 70,
     "metadata": {},
     "output_type": "execute_result"
    }
   ],
   "source": [
    "lc = 5.0- (1.5*iqr)\n",
    "lc"
   ]
  },
  {
   "cell_type": "code",
   "execution_count": 71,
   "id": "3330bc25",
   "metadata": {},
   "outputs": [
    {
     "data": {
      "text/plain": [
       "320.0"
      ]
     },
     "execution_count": 71,
     "metadata": {},
     "output_type": "execute_result"
    }
   ],
   "source": [
    "uc = 131.0 + (1.5*iqr)\n",
    "uc"
   ]
  },
  {
   "cell_type": "code",
   "execution_count": 72,
   "id": "d653e83d",
   "metadata": {},
   "outputs": [],
   "source": [
    "#Outliers have been clipped.\n",
    "final_data['Votes'] = final_data.Votes.clip(lower = lc, upper = uc)"
   ]
  },
  {
   "cell_type": "code",
   "execution_count": 73,
   "id": "5022c7cc",
   "metadata": {},
   "outputs": [
    {
     "data": {
      "text/plain": [
       "<Axes: >"
      ]
     },
     "execution_count": 73,
     "metadata": {},
     "output_type": "execute_result"
    },
    {
     "data": {
      "image/png": "[encoded data removed]",
      "text/plain": [
       "<Figure size 640x480 with 1 Axes>"
      ]
     },
     "metadata": {},
     "output_type": "display_data"
    }
   ],
   "source": [
    "sns.boxplot(final_data.Votes)"
   ]
  },
  {
   "cell_type": "code",
   "execution_count": 74,
   "id": "441d134a",
   "metadata": {},
   "outputs": [],
   "source": [
    "def outlier_IQR(s):\n",
    "    m = s.quantile(0.5)\n",
    "    q1 = s.quantile(0.25)\n",
    "    q3 = s.quantile(0.75)\n",
    "    q_1p = s.quantile(0.01)\n",
    "    q_99p = s.quantile(0.99)\n",
    "    iqr = q3 - q1\n",
    "    lc = q1 - 1.5*iqr\n",
    "    uc = q3 + 1.5*iqr\n",
    "    result = pd.Series([m,q1,q3,q_1p,q_99p,iqr,lc,uc])\n",
    "    result.index = ['median','first_quartile','third_quartile','pc_1','pc_99','iqr','lower_cutoff','upper_cutoff']\n",
    "    return result"
   ]
  },
  {
   "cell_type": "code",
   "execution_count": 75,
   "id": "9c222441",
   "metadata": {},
   "outputs": [],
   "source": [
    "def outliertreat_IQR(d):\n",
    "    m = d.quantile(0.5)\n",
    "    q1 = d.quantile(0.25)\n",
    "    q3 = d.quantile(0.75)\n",
    "    q_1p = d.quantile(0.01)\n",
    "    q_99p = d.quantile(0.99)\n",
    "    iqr = q3 - q1\n",
    "    lc = q1 - 1.5*iqr\n",
    "    uc = q3 + 1.5*iqr\n",
    "    return lc,uc"
   ]
  },
  {
   "cell_type": "code",
   "execution_count": 76,
   "id": "a790c45c",
   "metadata": {},
   "outputs": [
    {
     "data": {
      "text/html": [
       "<div>\n",
       "<style scoped>\n",
       "    .dataframe tbody tr th:only-of-type {\n",
       "        vertical-align: middle;\n",
       "    }\n",
       "\n",
       "    .dataframe tbody tr th {\n",
       "        vertical-align: top;\n",
       "    }\n",
       "\n",
       "    .dataframe thead th {\n",
       "        text-align: right;\n",
       "    }\n",
       "</style>\n",
       "<table border=\"1\" class=\"dataframe\">\n",
       "  <thead>\n",
       "    <tr style=\"text-align: right;\">\n",
       "      <th></th>\n",
       "      <th>Restaurant_ID</th>\n",
       "      <th>Country_Code</th>\n",
       "      <th>Longitude</th>\n",
       "      <th>Latitude</th>\n",
       "      <th>Average_Cost_for_two</th>\n",
       "      <th>Price_range</th>\n",
       "      <th>Aggregate_rating</th>\n",
       "      <th>Votes</th>\n",
       "    </tr>\n",
       "  </thead>\n",
       "  <tbody>\n",
       "    <tr>\n",
       "      <th>0</th>\n",
       "      <td>-26773531.0</td>\n",
       "      <td>1.0</td>\n",
       "      <td>76.780348</td>\n",
       "      <td>28.232644</td>\n",
       "      <td>-425.0</td>\n",
       "      <td>-0.5</td>\n",
       "      <td>0.7</td>\n",
       "      <td>-184.0</td>\n",
       "    </tr>\n",
       "    <tr>\n",
       "      <th>1</th>\n",
       "      <td>45427785.0</td>\n",
       "      <td>1.0</td>\n",
       "      <td>77.583001</td>\n",
       "      <td>28.888827</td>\n",
       "      <td>1375.0</td>\n",
       "      <td>3.5</td>\n",
       "      <td>5.5</td>\n",
       "      <td>320.0</td>\n",
       "    </tr>\n",
       "  </tbody>\n",
       "</table>\n",
       "</div>"
      ],
      "text/plain": [
       "   Restaurant_ID  Country_Code  Longitude   Latitude  Average_Cost_for_two  \\\n",
       "0    -26773531.0           1.0  76.780348  28.232644                -425.0   \n",
       "1     45427785.0           1.0  77.583001  28.888827                1375.0   \n",
       "\n",
       "   Price_range  Aggregate_rating  Votes  \n",
       "0         -0.5               0.7 -184.0  \n",
       "1          3.5               5.5  320.0  "
      ]
     },
     "execution_count": 76,
     "metadata": {},
     "output_type": "execute_result"
    }
   ],
   "source": [
    "num_data.apply(outliertreat_IQR)"
   ]
  },
  {
   "cell_type": "code",
   "execution_count": 77,
   "id": "57eb323d",
   "metadata": {},
   "outputs": [
    {
     "data": {
      "image/png": "[encoded data removed]",
      "text/plain": [
       "<Figure size 640x480 with 1 Axes>"
      ]
     },
     "metadata": {},
     "output_type": "display_data"
    },
    {
     "data": {
      "image/png": "[encoded data removed]",
      "text/plain": [
       "<Figure size 640x480 with 1 Axes>"
      ]
     },
     "metadata": {},
     "output_type": "display_data"
    },
    {
     "data": {
      "image/png": "[encoded data removed]",
      "text/plain": [
       "<Figure size 640x480 with 1 Axes>"
      ]
     },
     "metadata": {},
     "output_type": "display_data"
    },
    {
     "data": {
      "image/png": "[encoded data removed]",
      "text/plain": [
       "<Figure size 640x480 with 1 Axes>"
      ]
     },
     "metadata": {},
     "output_type": "display_data"
    },
    {
     "data": {
      "image/png": "[encoded data removed]",
      "text/plain": [
       "<Figure size 640x480 with 1 Axes>"
      ]
     },
     "metadata": {},
     "output_type": "display_data"
    },
    {
     "data": {
      "image/png": "[encoded data removed]",
      "text/plain": [
       "<Figure size 640x480 with 1 Axes>"
      ]
     },
     "metadata": {},
     "output_type": "display_data"
    },
    {
     "data": {
      "image/png": "[encoded data removed]",
      "text/plain": [
       "<Figure size 640x480 with 1 Axes>"
      ]
     },
     "metadata": {},
     "output_type": "display_data"
    },
    {
     "data": {
      "image/png": "[encoded data removed]",
      "text/plain": [
       "<Figure size 640x480 with 1 Axes>"
      ]
     },
     "metadata": {},
     "output_type": "display_data"
    }
   ],
   "source": [
    "for col in num_data:\n",
    "    sns.boxplot(num_data[col])\n",
    "    plt.show()"
   ]
  },
  {
   "cell_type": "code",
   "execution_count": 78,
   "id": "7c7daaa0",
   "metadata": {},
   "outputs": [
    {
     "name": "stderr",
     "output_type": "stream",
     "text": [
      "C:\\Users\\Gaya Gopan\\AppData\\Local\\Temp\\ipykernel_12088\\3368621580.py:1: SettingWithCopyWarning: \n",
      "A value is trying to be set on a copy of a slice from a DataFrame.\n",
      "Try using .loc[row_indexer,col_indexer] = value instead\n",
      "\n",
      "See the caveats in the documentation: https://pandas.pydata.org/pandas-docs/stable/user_guide/indexing.html#returning-a-view-versus-a-copy\n",
      "  num_data['Country_Code'] = num_data['Country_Code'].clip(lower = 1.0, upper = 1.0)\n",
      "C:\\Users\\Gaya Gopan\\AppData\\Local\\Temp\\ipykernel_12088\\3368621580.py:2: SettingWithCopyWarning: \n",
      "A value is trying to be set on a copy of a slice from a DataFrame.\n",
      "Try using .loc[row_indexer,col_indexer] = value instead\n",
      "\n",
      "See the caveats in the documentation: https://pandas.pydata.org/pandas-docs/stable/user_guide/indexing.html#returning-a-view-versus-a-copy\n",
      "  num_data['Longitude'] = num_data['Longitude'].clip(lower =76.780348, upper = 77.583001)\n",
      "C:\\Users\\Gaya Gopan\\AppData\\Local\\Temp\\ipykernel_12088\\3368621580.py:3: SettingWithCopyWarning: \n",
      "A value is trying to be set on a copy of a slice from a DataFrame.\n",
      "Try using .loc[row_indexer,col_indexer] = value instead\n",
      "\n",
      "See the caveats in the documentation: https://pandas.pydata.org/pandas-docs/stable/user_guide/indexing.html#returning-a-view-versus-a-copy\n",
      "  num_data['Latitude'] = num_data['Latitude'].clip(lower = 28.232644, upper = 28.888827)\n"
     ]
    }
   ],
   "source": [
    "num_data['Country_Code'] = num_data['Country_Code'].clip(lower = 1.0, upper = 1.0)\n",
    "num_data['Longitude'] = num_data['Longitude'].clip(lower =76.780348, upper = 77.583001)\n",
    "num_data['Latitude'] = num_data['Latitude'].clip(lower = 28.232644, upper = 28.888827)"
   ]
  },
  {
   "cell_type": "code",
   "execution_count": 79,
   "id": "c69df4b5",
   "metadata": {},
   "outputs": [
    {
     "data": {
      "image/png": "[encoded data removed]",
      "text/plain": [
       "<Figure size 640x480 with 1 Axes>"
      ]
     },
     "metadata": {},
     "output_type": "display_data"
    },
    {
     "data": {
      "image/png": "[encoded data removed]",
      "text/plain": [
       "<Figure size 640x480 with 1 Axes>"
      ]
     },
     "metadata": {},
     "output_type": "display_data"
    },
    {
     "data": {
      "image/png": "[encoded data removed]",
      "text/plain": [
       "<Figure size 640x480 with 1 Axes>"
      ]
     },
     "metadata": {},
     "output_type": "display_data"
    },
    {
     "data": {
      "image/png": "[encoded data removed]",
      "text/plain": [
       "<Figure size 640x480 with 1 Axes>"
      ]
     },
     "metadata": {},
     "output_type": "display_data"
    },
    {
     "data": {
      "image/png": "[encoded data removed]",
      "text/plain": [
       "<Figure size 640x480 with 1 Axes>"
      ]
     },
     "metadata": {},
     "output_type": "display_data"
    },
    {
     "data": {
      "image/png": "[encoded data removed]",
      "text/plain": [
       "<Figure size 640x480 with 1 Axes>"
      ]
     },
     "metadata": {},
     "output_type": "display_data"
    },
    {
     "data": {
      "image/png": "[encoded data removed]",
      "text/plain": [
       "<Figure size 640x480 with 1 Axes>"
      ]
     },
     "metadata": {},
     "output_type": "display_data"
    },
    {
     "data": {
      "image/png": "[encoded data removed]",
      "text/plain": [
       "<Figure size 640x480 with 1 Axes>"
      ]
     },
     "metadata": {},
     "output_type": "display_data"
    }
   ],
   "source": [
    "for col in num_data:\n",
    "    sns.boxplot(num_data[col])\n",
    "    plt.show()"
   ]
  },
  {
   "cell_type": "code",
   "execution_count": 80,
   "id": "70b6d551",
   "metadata": {},
   "outputs": [
    {
     "data": {
      "text/plain": [
       "<Axes: >"
      ]
     },
     "execution_count": 80,
     "metadata": {},
     "output_type": "execute_result"
    },
    {
     "data": {
      "image/png": "[encoded data removed]",
      "text/plain": [
       "<Figure size 1200x500 with 2 Axes>"
      ]
     },
     "metadata": {},
     "output_type": "display_data"
    }
   ],
   "source": [
    "plt.figure(figsize=(12,5))\n",
    "sns.heatmap(final_data.select_dtypes(['int','float']).corr(), annot = True)"
   ]
  },
  {
   "cell_type": "code",
   "execution_count": 81,
   "id": "a902ead8",
   "metadata": {},
   "outputs": [
    {
     "data": {
      "image/png": "[encoded data removed]",
      "text/plain": [
       "<Figure size 640x480 with 2 Axes>"
      ]
     },
     "metadata": {},
     "output_type": "display_data"
    }
   ],
   "source": [
    "plt.scatter(final_data['Votes'],final_data['Aggregate_rating'])\n",
    "plt.title(\"Aggregate_rating and Votes\")\n",
    "plt.xlabel('Votes')\n",
    "plt.ylabel('Aggregate_rating')\n",
    "plt.colorbar()\n",
    "plt.show()"
   ]
  },
  {
   "cell_type": "markdown",
   "id": "97d0037b",
   "metadata": {},
   "source": [
    "## top 4 countries that uses zomato"
   ]
  },
  {
   "cell_type": "code",
   "execution_count": 82,
   "id": "e2f5458e",
   "metadata": {},
   "outputs": [
    {
     "data": {
      "text/plain": [
       "Country\n",
       "India             8652\n",
       "United States      434\n",
       "United Kingdom      80\n",
       "Brazil              60\n",
       "UAE                 60\n",
       "South Africa        60\n",
       "New Zealand         40\n",
       "Turkey              34\n",
       "Australia           24\n",
       "Phillipines         22\n",
       "Indonesia           21\n",
       "Singapore           20\n",
       "Qatar               20\n",
       "Sri Lanka           20\n",
       "Canada               4\n",
       "Name: count, dtype: int64"
      ]
     },
     "execution_count": 82,
     "metadata": {},
     "output_type": "execute_result"
    }
   ],
   "source": [
    "country_count=final_data['Country'].value_counts()\n",
    "country_count"
   ]
  },
  {
   "cell_type": "code",
   "execution_count": 83,
   "id": "b8d99eaf",
   "metadata": {},
   "outputs": [
    {
     "data": {
      "text/plain": [
       "Country\n",
       "India             8652\n",
       "United States      434\n",
       "United Kingdom      80\n",
       "Brazil              60\n",
       "Name: count, dtype: int64"
      ]
     },
     "execution_count": 83,
     "metadata": {},
     "output_type": "execute_result"
    }
   ],
   "source": [
    "top_4_country=country_count.nlargest(4)\n",
    "top_4_country"
   ]
  },
  {
   "cell_type": "code",
   "execution_count": 84,
   "id": "502d6f07",
   "metadata": {
    "scrolled": true
   },
   "outputs": [
    {
     "data": {
      "image/png": "[encoded data removed]",
      "text/plain": [
       "<Figure size 800x800 with 1 Axes>"
      ]
     },
     "metadata": {},
     "output_type": "display_data"
    }
   ],
   "source": [
    "plt.figure(figsize=(8,8))\n",
    "plt.pie(top_4_country,labels=top_4_country.index,autopct='%1.1f%%',startangle=140)\n",
    "plt.title('Top 4 countries using Zomato')\n",
    "plt.axis('equal')\n",
    "plt.show()"
   ]
  },
  {
   "cell_type": "markdown",
   "id": "25a7e0aa",
   "metadata": {},
   "source": [
    "**India has high records or transaction of zomato**"
   ]
  },
  {
   "cell_type": "markdown",
   "id": "7e85755c",
   "metadata": {},
   "source": [
    "## Rating of Zomato"
   ]
  },
  {
   "cell_type": "code",
   "execution_count": 85,
   "id": "ff87a63d",
   "metadata": {},
   "outputs": [
    {
     "data": {
      "text/html": [
       "<div>\n",
       "<style scoped>\n",
       "    .dataframe tbody tr th:only-of-type {\n",
       "        vertical-align: middle;\n",
       "    }\n",
       "\n",
       "    .dataframe tbody tr th {\n",
       "        vertical-align: top;\n",
       "    }\n",
       "\n",
       "    .dataframe thead th {\n",
       "        text-align: right;\n",
       "    }\n",
       "</style>\n",
       "<table border=\"1\" class=\"dataframe\">\n",
       "  <thead>\n",
       "    <tr style=\"text-align: right;\">\n",
       "      <th></th>\n",
       "      <th>Aggregate_rating</th>\n",
       "      <th>Rating_color</th>\n",
       "      <th>Rating_text</th>\n",
       "      <th>rating count</th>\n",
       "    </tr>\n",
       "  </thead>\n",
       "  <tbody>\n",
       "    <tr>\n",
       "      <th>0</th>\n",
       "      <td>0.0</td>\n",
       "      <td>White</td>\n",
       "      <td>Not rated</td>\n",
       "      <td>2148</td>\n",
       "    </tr>\n",
       "    <tr>\n",
       "      <th>1</th>\n",
       "      <td>1.8</td>\n",
       "      <td>Red</td>\n",
       "      <td>Poor</td>\n",
       "      <td>1</td>\n",
       "    </tr>\n",
       "    <tr>\n",
       "      <th>2</th>\n",
       "      <td>1.9</td>\n",
       "      <td>Red</td>\n",
       "      <td>Poor</td>\n",
       "      <td>2</td>\n",
       "    </tr>\n",
       "    <tr>\n",
       "      <th>3</th>\n",
       "      <td>2.0</td>\n",
       "      <td>Red</td>\n",
       "      <td>Poor</td>\n",
       "      <td>7</td>\n",
       "    </tr>\n",
       "    <tr>\n",
       "      <th>4</th>\n",
       "      <td>2.1</td>\n",
       "      <td>Red</td>\n",
       "      <td>Poor</td>\n",
       "      <td>15</td>\n",
       "    </tr>\n",
       "    <tr>\n",
       "      <th>5</th>\n",
       "      <td>2.2</td>\n",
       "      <td>Red</td>\n",
       "      <td>Poor</td>\n",
       "      <td>27</td>\n",
       "    </tr>\n",
       "    <tr>\n",
       "      <th>6</th>\n",
       "      <td>2.3</td>\n",
       "      <td>Red</td>\n",
       "      <td>Poor</td>\n",
       "      <td>47</td>\n",
       "    </tr>\n",
       "    <tr>\n",
       "      <th>7</th>\n",
       "      <td>2.4</td>\n",
       "      <td>Red</td>\n",
       "      <td>Poor</td>\n",
       "      <td>87</td>\n",
       "    </tr>\n",
       "    <tr>\n",
       "      <th>8</th>\n",
       "      <td>2.5</td>\n",
       "      <td>Orange</td>\n",
       "      <td>Average</td>\n",
       "      <td>110</td>\n",
       "    </tr>\n",
       "    <tr>\n",
       "      <th>9</th>\n",
       "      <td>2.6</td>\n",
       "      <td>Orange</td>\n",
       "      <td>Average</td>\n",
       "      <td>191</td>\n",
       "    </tr>\n",
       "    <tr>\n",
       "      <th>10</th>\n",
       "      <td>2.7</td>\n",
       "      <td>Orange</td>\n",
       "      <td>Average</td>\n",
       "      <td>250</td>\n",
       "    </tr>\n",
       "    <tr>\n",
       "      <th>11</th>\n",
       "      <td>2.8</td>\n",
       "      <td>Orange</td>\n",
       "      <td>Average</td>\n",
       "      <td>315</td>\n",
       "    </tr>\n",
       "    <tr>\n",
       "      <th>12</th>\n",
       "      <td>2.9</td>\n",
       "      <td>Orange</td>\n",
       "      <td>Average</td>\n",
       "      <td>381</td>\n",
       "    </tr>\n",
       "    <tr>\n",
       "      <th>13</th>\n",
       "      <td>3.0</td>\n",
       "      <td>Orange</td>\n",
       "      <td>Average</td>\n",
       "      <td>468</td>\n",
       "    </tr>\n",
       "    <tr>\n",
       "      <th>14</th>\n",
       "      <td>3.1</td>\n",
       "      <td>Orange</td>\n",
       "      <td>Average</td>\n",
       "      <td>519</td>\n",
       "    </tr>\n",
       "    <tr>\n",
       "      <th>15</th>\n",
       "      <td>3.2</td>\n",
       "      <td>Orange</td>\n",
       "      <td>Average</td>\n",
       "      <td>522</td>\n",
       "    </tr>\n",
       "    <tr>\n",
       "      <th>16</th>\n",
       "      <td>3.3</td>\n",
       "      <td>Orange</td>\n",
       "      <td>Average</td>\n",
       "      <td>483</td>\n",
       "    </tr>\n",
       "    <tr>\n",
       "      <th>17</th>\n",
       "      <td>3.4</td>\n",
       "      <td>Orange</td>\n",
       "      <td>Average</td>\n",
       "      <td>498</td>\n",
       "    </tr>\n",
       "    <tr>\n",
       "      <th>18</th>\n",
       "      <td>3.5</td>\n",
       "      <td>Yellow</td>\n",
       "      <td>Good</td>\n",
       "      <td>480</td>\n",
       "    </tr>\n",
       "    <tr>\n",
       "      <th>19</th>\n",
       "      <td>3.6</td>\n",
       "      <td>Yellow</td>\n",
       "      <td>Good</td>\n",
       "      <td>458</td>\n",
       "    </tr>\n",
       "    <tr>\n",
       "      <th>20</th>\n",
       "      <td>3.7</td>\n",
       "      <td>Yellow</td>\n",
       "      <td>Good</td>\n",
       "      <td>427</td>\n",
       "    </tr>\n",
       "    <tr>\n",
       "      <th>21</th>\n",
       "      <td>3.8</td>\n",
       "      <td>Yellow</td>\n",
       "      <td>Good</td>\n",
       "      <td>400</td>\n",
       "    </tr>\n",
       "    <tr>\n",
       "      <th>22</th>\n",
       "      <td>3.9</td>\n",
       "      <td>Yellow</td>\n",
       "      <td>Good</td>\n",
       "      <td>335</td>\n",
       "    </tr>\n",
       "    <tr>\n",
       "      <th>23</th>\n",
       "      <td>4.0</td>\n",
       "      <td>Green</td>\n",
       "      <td>Very Good</td>\n",
       "      <td>266</td>\n",
       "    </tr>\n",
       "    <tr>\n",
       "      <th>24</th>\n",
       "      <td>4.1</td>\n",
       "      <td>Green</td>\n",
       "      <td>Very Good</td>\n",
       "      <td>274</td>\n",
       "    </tr>\n",
       "    <tr>\n",
       "      <th>25</th>\n",
       "      <td>4.2</td>\n",
       "      <td>Green</td>\n",
       "      <td>Very Good</td>\n",
       "      <td>221</td>\n",
       "    </tr>\n",
       "    <tr>\n",
       "      <th>26</th>\n",
       "      <td>4.3</td>\n",
       "      <td>Green</td>\n",
       "      <td>Very Good</td>\n",
       "      <td>174</td>\n",
       "    </tr>\n",
       "    <tr>\n",
       "      <th>27</th>\n",
       "      <td>4.4</td>\n",
       "      <td>Green</td>\n",
       "      <td>Very Good</td>\n",
       "      <td>144</td>\n",
       "    </tr>\n",
       "    <tr>\n",
       "      <th>28</th>\n",
       "      <td>4.5</td>\n",
       "      <td>Dark Green</td>\n",
       "      <td>Excellent</td>\n",
       "      <td>95</td>\n",
       "    </tr>\n",
       "    <tr>\n",
       "      <th>29</th>\n",
       "      <td>4.6</td>\n",
       "      <td>Dark Green</td>\n",
       "      <td>Excellent</td>\n",
       "      <td>78</td>\n",
       "    </tr>\n",
       "    <tr>\n",
       "      <th>30</th>\n",
       "      <td>4.7</td>\n",
       "      <td>Dark Green</td>\n",
       "      <td>Excellent</td>\n",
       "      <td>42</td>\n",
       "    </tr>\n",
       "    <tr>\n",
       "      <th>31</th>\n",
       "      <td>4.8</td>\n",
       "      <td>Dark Green</td>\n",
       "      <td>Excellent</td>\n",
       "      <td>25</td>\n",
       "    </tr>\n",
       "    <tr>\n",
       "      <th>32</th>\n",
       "      <td>4.9</td>\n",
       "      <td>Dark Green</td>\n",
       "      <td>Excellent</td>\n",
       "      <td>61</td>\n",
       "    </tr>\n",
       "  </tbody>\n",
       "</table>\n",
       "</div>"
      ],
      "text/plain": [
       "    Aggregate_rating Rating_color Rating_text  rating count\n",
       "0                0.0        White   Not rated          2148\n",
       "1                1.8          Red        Poor             1\n",
       "2                1.9          Red        Poor             2\n",
       "3                2.0          Red        Poor             7\n",
       "4                2.1          Red        Poor            15\n",
       "5                2.2          Red        Poor            27\n",
       "6                2.3          Red        Poor            47\n",
       "7                2.4          Red        Poor            87\n",
       "8                2.5       Orange     Average           110\n",
       "9                2.6       Orange     Average           191\n",
       "10               2.7       Orange     Average           250\n",
       "11               2.8       Orange     Average           315\n",
       "12               2.9       Orange     Average           381\n",
       "13               3.0       Orange     Average           468\n",
       "14               3.1       Orange     Average           519\n",
       "15               3.2       Orange     Average           522\n",
       "16               3.3       Orange     Average           483\n",
       "17               3.4       Orange     Average           498\n",
       "18               3.5       Yellow        Good           480\n",
       "19               3.6       Yellow        Good           458\n",
       "20               3.7       Yellow        Good           427\n",
       "21               3.8       Yellow        Good           400\n",
       "22               3.9       Yellow        Good           335\n",
       "23               4.0        Green   Very Good           266\n",
       "24               4.1        Green   Very Good           274\n",
       "25               4.2        Green   Very Good           221\n",
       "26               4.3        Green   Very Good           174\n",
       "27               4.4        Green   Very Good           144\n",
       "28               4.5   Dark Green   Excellent            95\n",
       "29               4.6   Dark Green   Excellent            78\n",
       "30               4.7   Dark Green   Excellent            42\n",
       "31               4.8   Dark Green   Excellent            25\n",
       "32               4.9   Dark Green   Excellent            61"
      ]
     },
     "execution_count": 85,
     "metadata": {},
     "output_type": "execute_result"
    }
   ],
   "source": [
    "Rating = final_data.groupby(['Aggregate_rating', 'Rating_color', 'Rating_text']).size().reset_index().rename(columns={0:'rating count'})\n",
    "Rating"
   ]
  },
  {
   "cell_type": "code",
   "execution_count": 104,
   "id": "5e1710fe",
   "metadata": {},
   "outputs": [
    {
     "data": {
      "text/plain": [
       "<Axes: xlabel='Rating_text'>"
      ]
     },
     "execution_count": 104,
     "metadata": {},
     "output_type": "execute_result"
    },
    {
     "data": {
      "image/png": "[encoded data removed]",
      "text/plain": [
       "<Figure size 640x480 with 1 Axes>"
      ]
     },
     "metadata": {},
     "output_type": "display_data"
    }
   ],
   "source": [
    "final_data['Rating_text'].value_counts().plot(kind='bar',color=['#40E0D0','purple','orange','#DE3163','#6495ED','#FF7F50'])"
   ]
  },
  {
   "cell_type": "markdown",
   "id": "48c5dbd8",
   "metadata": {},
   "source": [
    "## Finding out which currency is used by which country"
   ]
  },
  {
   "cell_type": "code",
   "execution_count": 87,
   "id": "9319d9a6",
   "metadata": {},
   "outputs": [
    {
     "data": {
      "text/plain": [
       "Index(['Restaurant_ID', 'Restaurant_Name', 'Country_Code', 'City', 'Address',\n",
       "       'Locality', 'Locality_Verbose', 'Longitude', 'Latitude', 'Cuisines',\n",
       "       'Average_Cost_for_two', 'Currency', 'Has_Table_booking',\n",
       "       'Has_Online_delivery', 'Is_delivering_now', 'Switch_to_order_menu',\n",
       "       'Price_range', 'Aggregate_rating', 'Rating_color', 'Rating_text',\n",
       "       'Votes', 'Country'],\n",
       "      dtype='object')"
      ]
     },
     "execution_count": 87,
     "metadata": {},
     "output_type": "execute_result"
    }
   ],
   "source": [
    "final_data.columns"
   ]
  },
  {
   "cell_type": "code",
   "execution_count": 88,
   "id": "60b09dea",
   "metadata": {},
   "outputs": [
    {
     "data": {
      "text/html": [
       "<div>\n",
       "<style scoped>\n",
       "    .dataframe tbody tr th:only-of-type {\n",
       "        vertical-align: middle;\n",
       "    }\n",
       "\n",
       "    .dataframe tbody tr th {\n",
       "        vertical-align: top;\n",
       "    }\n",
       "\n",
       "    .dataframe thead th {\n",
       "        text-align: right;\n",
       "    }\n",
       "</style>\n",
       "<table border=\"1\" class=\"dataframe\">\n",
       "  <thead>\n",
       "    <tr style=\"text-align: right;\">\n",
       "      <th></th>\n",
       "      <th>Country</th>\n",
       "      <th>Currency</th>\n",
       "      <th>0</th>\n",
       "    </tr>\n",
       "  </thead>\n",
       "  <tbody>\n",
       "    <tr>\n",
       "      <th>0</th>\n",
       "      <td>Australia</td>\n",
       "      <td>Dollar($)</td>\n",
       "      <td>24</td>\n",
       "    </tr>\n",
       "    <tr>\n",
       "      <th>1</th>\n",
       "      <td>Brazil</td>\n",
       "      <td>Brazilian Real(R$)</td>\n",
       "      <td>60</td>\n",
       "    </tr>\n",
       "    <tr>\n",
       "      <th>2</th>\n",
       "      <td>Canada</td>\n",
       "      <td>Dollar($)</td>\n",
       "      <td>4</td>\n",
       "    </tr>\n",
       "    <tr>\n",
       "      <th>3</th>\n",
       "      <td>India</td>\n",
       "      <td>Indian Rupees(Rs.)</td>\n",
       "      <td>8652</td>\n",
       "    </tr>\n",
       "    <tr>\n",
       "      <th>4</th>\n",
       "      <td>Indonesia</td>\n",
       "      <td>Indonesian Rupiah(IDR)</td>\n",
       "      <td>21</td>\n",
       "    </tr>\n",
       "    <tr>\n",
       "      <th>5</th>\n",
       "      <td>New Zealand</td>\n",
       "      <td>NewZealand($)</td>\n",
       "      <td>40</td>\n",
       "    </tr>\n",
       "    <tr>\n",
       "      <th>6</th>\n",
       "      <td>Phillipines</td>\n",
       "      <td>Botswana Pula(P)</td>\n",
       "      <td>22</td>\n",
       "    </tr>\n",
       "    <tr>\n",
       "      <th>7</th>\n",
       "      <td>Qatar</td>\n",
       "      <td>Qatari Rial(QR)</td>\n",
       "      <td>20</td>\n",
       "    </tr>\n",
       "    <tr>\n",
       "      <th>8</th>\n",
       "      <td>Singapore</td>\n",
       "      <td>Dollar($)</td>\n",
       "      <td>20</td>\n",
       "    </tr>\n",
       "    <tr>\n",
       "      <th>9</th>\n",
       "      <td>South Africa</td>\n",
       "      <td>Rand(R)</td>\n",
       "      <td>60</td>\n",
       "    </tr>\n",
       "    <tr>\n",
       "      <th>10</th>\n",
       "      <td>Sri Lanka</td>\n",
       "      <td>Sri Lankan Rupee(LKR)</td>\n",
       "      <td>20</td>\n",
       "    </tr>\n",
       "    <tr>\n",
       "      <th>11</th>\n",
       "      <td>Turkey</td>\n",
       "      <td>Turkish Lira(TL)</td>\n",
       "      <td>34</td>\n",
       "    </tr>\n",
       "    <tr>\n",
       "      <th>12</th>\n",
       "      <td>UAE</td>\n",
       "      <td>Emirati Diram(AED)</td>\n",
       "      <td>60</td>\n",
       "    </tr>\n",
       "    <tr>\n",
       "      <th>13</th>\n",
       "      <td>United Kingdom</td>\n",
       "      <td>Pounds(£)</td>\n",
       "      <td>80</td>\n",
       "    </tr>\n",
       "    <tr>\n",
       "      <th>14</th>\n",
       "      <td>United States</td>\n",
       "      <td>Dollar($)</td>\n",
       "      <td>434</td>\n",
       "    </tr>\n",
       "  </tbody>\n",
       "</table>\n",
       "</div>"
      ],
      "text/plain": [
       "           Country                Currency     0\n",
       "0        Australia               Dollar($)    24\n",
       "1           Brazil      Brazilian Real(R$)    60\n",
       "2           Canada               Dollar($)     4\n",
       "3            India      Indian Rupees(Rs.)  8652\n",
       "4        Indonesia  Indonesian Rupiah(IDR)    21\n",
       "5      New Zealand           NewZealand($)    40\n",
       "6      Phillipines        Botswana Pula(P)    22\n",
       "7            Qatar         Qatari Rial(QR)    20\n",
       "8        Singapore               Dollar($)    20\n",
       "9     South Africa                 Rand(R)    60\n",
       "10       Sri Lanka   Sri Lankan Rupee(LKR)    20\n",
       "11          Turkey        Turkish Lira(TL)    34\n",
       "12             UAE      Emirati Diram(AED)    60\n",
       "13  United Kingdom              Pounds(£)    80\n",
       "14   United States               Dollar($)   434"
      ]
     },
     "execution_count": 88,
     "metadata": {},
     "output_type": "execute_result"
    }
   ],
   "source": [
    "final_data[['Country','Currency']].groupby(['Country','Currency']).size().reset_index()"
   ]
  },
  {
   "cell_type": "markdown",
   "id": "fe165bec",
   "metadata": {},
   "source": [
    "## Delivery types in different countries"
   ]
  },
  {
   "cell_type": "code",
   "execution_count": 89,
   "id": "ef93752b",
   "metadata": {},
   "outputs": [
    {
     "data": {
      "text/html": [
       "<div>\n",
       "<style scoped>\n",
       "    .dataframe tbody tr th:only-of-type {\n",
       "        vertical-align: middle;\n",
       "    }\n",
       "\n",
       "    .dataframe tbody tr th {\n",
       "        vertical-align: top;\n",
       "    }\n",
       "\n",
       "    .dataframe thead th {\n",
       "        text-align: right;\n",
       "    }\n",
       "</style>\n",
       "<table border=\"1\" class=\"dataframe\">\n",
       "  <thead>\n",
       "    <tr style=\"text-align: right;\">\n",
       "      <th></th>\n",
       "      <th>Has_Online_delivery</th>\n",
       "      <th>Country</th>\n",
       "      <th>0</th>\n",
       "    </tr>\n",
       "  </thead>\n",
       "  <tbody>\n",
       "    <tr>\n",
       "      <th>0</th>\n",
       "      <td>No</td>\n",
       "      <td>Australia</td>\n",
       "      <td>24</td>\n",
       "    </tr>\n",
       "    <tr>\n",
       "      <th>1</th>\n",
       "      <td>No</td>\n",
       "      <td>Brazil</td>\n",
       "      <td>60</td>\n",
       "    </tr>\n",
       "    <tr>\n",
       "      <th>2</th>\n",
       "      <td>No</td>\n",
       "      <td>Canada</td>\n",
       "      <td>4</td>\n",
       "    </tr>\n",
       "    <tr>\n",
       "      <th>3</th>\n",
       "      <td>No</td>\n",
       "      <td>India</td>\n",
       "      <td>6229</td>\n",
       "    </tr>\n",
       "    <tr>\n",
       "      <th>4</th>\n",
       "      <td>No</td>\n",
       "      <td>Indonesia</td>\n",
       "      <td>21</td>\n",
       "    </tr>\n",
       "    <tr>\n",
       "      <th>5</th>\n",
       "      <td>No</td>\n",
       "      <td>New Zealand</td>\n",
       "      <td>40</td>\n",
       "    </tr>\n",
       "    <tr>\n",
       "      <th>6</th>\n",
       "      <td>No</td>\n",
       "      <td>Phillipines</td>\n",
       "      <td>22</td>\n",
       "    </tr>\n",
       "    <tr>\n",
       "      <th>7</th>\n",
       "      <td>No</td>\n",
       "      <td>Qatar</td>\n",
       "      <td>20</td>\n",
       "    </tr>\n",
       "    <tr>\n",
       "      <th>8</th>\n",
       "      <td>No</td>\n",
       "      <td>Singapore</td>\n",
       "      <td>20</td>\n",
       "    </tr>\n",
       "    <tr>\n",
       "      <th>9</th>\n",
       "      <td>No</td>\n",
       "      <td>South Africa</td>\n",
       "      <td>60</td>\n",
       "    </tr>\n",
       "    <tr>\n",
       "      <th>10</th>\n",
       "      <td>No</td>\n",
       "      <td>Sri Lanka</td>\n",
       "      <td>20</td>\n",
       "    </tr>\n",
       "    <tr>\n",
       "      <th>11</th>\n",
       "      <td>No</td>\n",
       "      <td>Turkey</td>\n",
       "      <td>34</td>\n",
       "    </tr>\n",
       "    <tr>\n",
       "      <th>12</th>\n",
       "      <td>No</td>\n",
       "      <td>UAE</td>\n",
       "      <td>32</td>\n",
       "    </tr>\n",
       "    <tr>\n",
       "      <th>13</th>\n",
       "      <td>No</td>\n",
       "      <td>United Kingdom</td>\n",
       "      <td>80</td>\n",
       "    </tr>\n",
       "    <tr>\n",
       "      <th>14</th>\n",
       "      <td>No</td>\n",
       "      <td>United States</td>\n",
       "      <td>434</td>\n",
       "    </tr>\n",
       "    <tr>\n",
       "      <th>15</th>\n",
       "      <td>Yes</td>\n",
       "      <td>India</td>\n",
       "      <td>2423</td>\n",
       "    </tr>\n",
       "    <tr>\n",
       "      <th>16</th>\n",
       "      <td>Yes</td>\n",
       "      <td>UAE</td>\n",
       "      <td>28</td>\n",
       "    </tr>\n",
       "  </tbody>\n",
       "</table>\n",
       "</div>"
      ],
      "text/plain": [
       "   Has_Online_delivery         Country     0\n",
       "0                   No       Australia    24\n",
       "1                   No          Brazil    60\n",
       "2                   No          Canada     4\n",
       "3                   No           India  6229\n",
       "4                   No       Indonesia    21\n",
       "5                   No     New Zealand    40\n",
       "6                   No     Phillipines    22\n",
       "7                   No           Qatar    20\n",
       "8                   No       Singapore    20\n",
       "9                   No    South Africa    60\n",
       "10                  No       Sri Lanka    20\n",
       "11                  No          Turkey    34\n",
       "12                  No             UAE    32\n",
       "13                  No  United Kingdom    80\n",
       "14                  No   United States   434\n",
       "15                 Yes           India  2423\n",
       "16                 Yes             UAE    28"
      ]
     },
     "execution_count": 89,
     "metadata": {},
     "output_type": "execute_result"
    }
   ],
   "source": [
    "final_data[['Has_Online_delivery','Country']].groupby(['Has_Online_delivery','Country']).size().reset_index()"
   ]
  },
  {
   "cell_type": "code",
   "execution_count": 90,
   "id": "3722af99",
   "metadata": {},
   "outputs": [
    {
     "data": {
      "text/plain": [
       "Country\n",
       "India    2423\n",
       "UAE        28\n",
       "Name: count, dtype: int64"
      ]
     },
     "execution_count": 90,
     "metadata": {},
     "output_type": "execute_result"
    }
   ],
   "source": [
    "final_data[final_data['Has_Online_delivery']=='Yes'].Country.value_counts()"
   ]
  },
  {
   "cell_type": "code",
   "execution_count": 91,
   "id": "086d207c",
   "metadata": {},
   "outputs": [
    {
     "data": {
      "text/plain": [
       "Country\n",
       "India             6229\n",
       "United States      434\n",
       "United Kingdom      80\n",
       "Brazil              60\n",
       "South Africa        60\n",
       "New Zealand         40\n",
       "Turkey              34\n",
       "UAE                 32\n",
       "Australia           24\n",
       "Phillipines         22\n",
       "Indonesia           21\n",
       "Singapore           20\n",
       "Qatar               20\n",
       "Sri Lanka           20\n",
       "Canada               4\n",
       "Name: count, dtype: int64"
      ]
     },
     "execution_count": 91,
     "metadata": {},
     "output_type": "execute_result"
    }
   ],
   "source": [
    "final_data[final_data['Has_Online_delivery']=='No'].Country.value_counts()"
   ]
  },
  {
   "cell_type": "code",
   "execution_count": 92,
   "id": "325df380",
   "metadata": {},
   "outputs": [
    {
     "data": {
      "text/html": [
       "<div>\n",
       "<style scoped>\n",
       "    .dataframe tbody tr th:only-of-type {\n",
       "        vertical-align: middle;\n",
       "    }\n",
       "\n",
       "    .dataframe tbody tr th {\n",
       "        vertical-align: top;\n",
       "    }\n",
       "\n",
       "    .dataframe thead th {\n",
       "        text-align: right;\n",
       "    }\n",
       "</style>\n",
       "<table border=\"1\" class=\"dataframe\">\n",
       "  <thead>\n",
       "    <tr style=\"text-align: right;\">\n",
       "      <th></th>\n",
       "      <th>Restaurant_Name</th>\n",
       "      <th>Country</th>\n",
       "      <th>Has_Online_delivery</th>\n",
       "      <th>Has_Table_booking</th>\n",
       "      <th>delivery count</th>\n",
       "    </tr>\n",
       "  </thead>\n",
       "  <tbody>\n",
       "    <tr>\n",
       "      <th>0</th>\n",
       "      <td>Let's Burrrp</td>\n",
       "      <td>India</td>\n",
       "      <td>No</td>\n",
       "      <td>No</td>\n",
       "      <td>1</td>\n",
       "    </tr>\n",
       "    <tr>\n",
       "      <th>1</th>\n",
       "      <td>#45</td>\n",
       "      <td>India</td>\n",
       "      <td>No</td>\n",
       "      <td>No</td>\n",
       "      <td>1</td>\n",
       "    </tr>\n",
       "    <tr>\n",
       "      <th>2</th>\n",
       "      <td>#Dilliwaala6</td>\n",
       "      <td>India</td>\n",
       "      <td>No</td>\n",
       "      <td>No</td>\n",
       "      <td>1</td>\n",
       "    </tr>\n",
       "    <tr>\n",
       "      <th>3</th>\n",
       "      <td>#InstaFreeze</td>\n",
       "      <td>India</td>\n",
       "      <td>No</td>\n",
       "      <td>No</td>\n",
       "      <td>1</td>\n",
       "    </tr>\n",
       "    <tr>\n",
       "      <th>4</th>\n",
       "      <td>#OFF Campus</td>\n",
       "      <td>India</td>\n",
       "      <td>Yes</td>\n",
       "      <td>Yes</td>\n",
       "      <td>1</td>\n",
       "    </tr>\n",
       "    <tr>\n",
       "      <th>...</th>\n",
       "      <td>...</td>\n",
       "      <td>...</td>\n",
       "      <td>...</td>\n",
       "      <td>...</td>\n",
       "      <td>...</td>\n",
       "    </tr>\n",
       "    <tr>\n",
       "      <th>7738</th>\n",
       "      <td>t Lounge by Dilmah</td>\n",
       "      <td>India</td>\n",
       "      <td>No</td>\n",
       "      <td>No</td>\n",
       "      <td>1</td>\n",
       "    </tr>\n",
       "    <tr>\n",
       "      <th>7739</th>\n",
       "      <td>tashas</td>\n",
       "      <td>South Africa</td>\n",
       "      <td>No</td>\n",
       "      <td>No</td>\n",
       "      <td>1</td>\n",
       "    </tr>\n",
       "    <tr>\n",
       "      <th>7740</th>\n",
       "      <td>wagamama</td>\n",
       "      <td>New Zealand</td>\n",
       "      <td>No</td>\n",
       "      <td>No</td>\n",
       "      <td>1</td>\n",
       "    </tr>\n",
       "    <tr>\n",
       "      <th>7741</th>\n",
       "      <td>{Niche} - Cafe &amp; Bar</td>\n",
       "      <td>India</td>\n",
       "      <td>No</td>\n",
       "      <td>Yes</td>\n",
       "      <td>1</td>\n",
       "    </tr>\n",
       "    <tr>\n",
       "      <th>7742</th>\n",
       "      <td>íukuraÛôa SofrasÛ±</td>\n",
       "      <td>Turkey</td>\n",
       "      <td>No</td>\n",
       "      <td>No</td>\n",
       "      <td>1</td>\n",
       "    </tr>\n",
       "  </tbody>\n",
       "</table>\n",
       "<p>7743 rows × 5 columns</p>\n",
       "</div>"
      ],
      "text/plain": [
       "           Restaurant_Name       Country Has_Online_delivery  \\\n",
       "0             Let's Burrrp         India                  No   \n",
       "1                      #45         India                  No   \n",
       "2             #Dilliwaala6         India                  No   \n",
       "3             #InstaFreeze         India                  No   \n",
       "4              #OFF Campus         India                 Yes   \n",
       "...                    ...           ...                 ...   \n",
       "7738    t Lounge by Dilmah         India                  No   \n",
       "7739                tashas  South Africa                  No   \n",
       "7740              wagamama   New Zealand                  No   \n",
       "7741  {Niche} - Cafe & Bar         India                  No   \n",
       "7742   íukuraÛôa SofrasÛ±        Turkey                  No   \n",
       "\n",
       "     Has_Table_booking  delivery count  \n",
       "0                   No               1  \n",
       "1                   No               1  \n",
       "2                   No               1  \n",
       "3                   No               1  \n",
       "4                  Yes               1  \n",
       "...                ...             ...  \n",
       "7738                No               1  \n",
       "7739                No               1  \n",
       "7740                No               1  \n",
       "7741               Yes               1  \n",
       "7742                No               1  \n",
       "\n",
       "[7743 rows x 5 columns]"
      ]
     },
     "execution_count": 92,
     "metadata": {},
     "output_type": "execute_result"
    }
   ],
   "source": [
    "delivery_type = final_data.groupby(['Restaurant_Name','Country','Has_Online_delivery', 'Has_Table_booking' ]).size().reset_index().rename(columns={0:'delivery count'})\n",
    "delivery_type"
   ]
  },
  {
   "cell_type": "code",
   "execution_count": 93,
   "id": "53a2b1c0",
   "metadata": {},
   "outputs": [
    {
     "name": "stdout",
     "output_type": "stream",
     "text": [
      "Country\n",
      "India             8652\n",
      "United States      434\n",
      "United Kingdom      80\n",
      "Brazil              60\n",
      "UAE                 60\n",
      "South Africa        60\n",
      "New Zealand         40\n",
      "Turkey              34\n",
      "Australia           24\n",
      "Phillipines         22\n",
      "Indonesia           21\n",
      "Singapore           20\n",
      "Qatar               20\n",
      "Sri Lanka           20\n",
      "Canada               4\n",
      "Name: count, dtype: int64\n"
     ]
    },
    {
     "data": {
      "text/plain": [
       "Text(0, 0.5, 'Has_Online_delivery')"
      ]
     },
     "execution_count": 93,
     "metadata": {},
     "output_type": "execute_result"
    },
    {
     "data": {
      "image/png": "[encoded data removed]",
      "text/plain": [
       "<Figure size 800x800 with 1 Axes>"
      ]
     },
     "metadata": {},
     "output_type": "display_data"
    }
   ],
   "source": [
    "print(final_data['Country'].value_counts())\n",
    "final_data['Country'].value_counts().plot(kind = 'bar',color = 'green',figsize = (8,8))\n",
    "plt.title(\"Delivery Type\")\n",
    "plt.xlabel(\"Country\")\n",
    "plt.ylabel(\"Has_Online_delivery\")\n"
   ]
  },
  {
   "cell_type": "code",
   "execution_count": 94,
   "id": "b20c1250",
   "metadata": {},
   "outputs": [
    {
     "data": {
      "text/html": [
       "<div>\n",
       "<style scoped>\n",
       "    .dataframe tbody tr th:only-of-type {\n",
       "        vertical-align: middle;\n",
       "    }\n",
       "\n",
       "    .dataframe tbody tr th {\n",
       "        vertical-align: top;\n",
       "    }\n",
       "\n",
       "    .dataframe thead th {\n",
       "        text-align: right;\n",
       "    }\n",
       "</style>\n",
       "<table border=\"1\" class=\"dataframe\">\n",
       "  <thead>\n",
       "    <tr style=\"text-align: right;\">\n",
       "      <th></th>\n",
       "      <th>Has_Online_delivery</th>\n",
       "      <th>City</th>\n",
       "      <th>0</th>\n",
       "    </tr>\n",
       "  </thead>\n",
       "  <tbody>\n",
       "    <tr>\n",
       "      <th>0</th>\n",
       "      <td>No</td>\n",
       "      <td>Abu Dhabi</td>\n",
       "      <td>9</td>\n",
       "    </tr>\n",
       "    <tr>\n",
       "      <th>1</th>\n",
       "      <td>No</td>\n",
       "      <td>Agra</td>\n",
       "      <td>20</td>\n",
       "    </tr>\n",
       "    <tr>\n",
       "      <th>2</th>\n",
       "      <td>No</td>\n",
       "      <td>Ahmedabad</td>\n",
       "      <td>10</td>\n",
       "    </tr>\n",
       "    <tr>\n",
       "      <th>3</th>\n",
       "      <td>No</td>\n",
       "      <td>Albany</td>\n",
       "      <td>20</td>\n",
       "    </tr>\n",
       "    <tr>\n",
       "      <th>4</th>\n",
       "      <td>No</td>\n",
       "      <td>Allahabad</td>\n",
       "      <td>20</td>\n",
       "    </tr>\n",
       "    <tr>\n",
       "      <th>...</th>\n",
       "      <td>...</td>\n",
       "      <td>...</td>\n",
       "      <td>...</td>\n",
       "    </tr>\n",
       "    <tr>\n",
       "      <th>157</th>\n",
       "      <td>Yes</td>\n",
       "      <td>New Delhi</td>\n",
       "      <td>1489</td>\n",
       "    </tr>\n",
       "    <tr>\n",
       "      <th>158</th>\n",
       "      <td>Yes</td>\n",
       "      <td>Noida</td>\n",
       "      <td>364</td>\n",
       "    </tr>\n",
       "    <tr>\n",
       "      <th>159</th>\n",
       "      <td>Yes</td>\n",
       "      <td>Pune</td>\n",
       "      <td>7</td>\n",
       "    </tr>\n",
       "    <tr>\n",
       "      <th>160</th>\n",
       "      <td>Yes</td>\n",
       "      <td>Secunderabad</td>\n",
       "      <td>1</td>\n",
       "    </tr>\n",
       "    <tr>\n",
       "      <th>161</th>\n",
       "      <td>Yes</td>\n",
       "      <td>Sharjah</td>\n",
       "      <td>11</td>\n",
       "    </tr>\n",
       "  </tbody>\n",
       "</table>\n",
       "<p>162 rows × 3 columns</p>\n",
       "</div>"
      ],
      "text/plain": [
       "    Has_Online_delivery          City     0\n",
       "0                    No     Abu Dhabi     9\n",
       "1                    No          Agra    20\n",
       "2                    No     Ahmedabad    10\n",
       "3                    No        Albany    20\n",
       "4                    No     Allahabad    20\n",
       "..                  ...           ...   ...\n",
       "157                 Yes     New Delhi  1489\n",
       "158                 Yes         Noida   364\n",
       "159                 Yes          Pune     7\n",
       "160                 Yes  Secunderabad     1\n",
       "161                 Yes       Sharjah    11\n",
       "\n",
       "[162 rows x 3 columns]"
      ]
     },
     "execution_count": 94,
     "metadata": {},
     "output_type": "execute_result"
    }
   ],
   "source": [
    "final_data[['Has_Online_delivery','City']].groupby(['Has_Online_delivery','City']).size().reset_index()"
   ]
  },
  {
   "cell_type": "code",
   "execution_count": 95,
   "id": "fff43e20",
   "metadata": {},
   "outputs": [
    {
     "data": {
      "text/plain": [
       "City\n",
       "New Delhi       1489\n",
       "Gurgaon          425\n",
       "Noida            364\n",
       "Faridabad         35\n",
       "Chennai           13\n",
       "Abu Dhabi         11\n",
       "Sharjah           11\n",
       "Ahmedabad         11\n",
       "Ghaziabad         10\n",
       "Nagpur            10\n",
       "Jaipur            10\n",
       "Kolkata            8\n",
       "Pune               7\n",
       "Mumbai             7\n",
       "Hyderabad          7\n",
       "Coimbatore         7\n",
       "Bangalore          7\n",
       "Dubai              6\n",
       "Chandigarh         6\n",
       "Kochi              5\n",
       "Mohali             1\n",
       "Secunderabad       1\n",
       "Name: count, dtype: int64"
      ]
     },
     "execution_count": 95,
     "metadata": {},
     "output_type": "execute_result"
    }
   ],
   "source": [
    "final_data[final_data['Has_Online_delivery']=='Yes'].City.value_counts()"
   ]
  },
  {
   "cell_type": "code",
   "execution_count": 96,
   "id": "da876407",
   "metadata": {},
   "outputs": [
    {
     "data": {
      "text/plain": [
       "City\n",
       "New Delhi       3984\n",
       "Noida            716\n",
       "Gurgaon          693\n",
       "Faridabad        216\n",
       "Guwahati          21\n",
       "                ... \n",
       "Panchkula          1\n",
       "Forrest            1\n",
       "Flaxton            1\n",
       "East Ballina       1\n",
       "Chatham-Kent       1\n",
       "Name: count, Length: 140, dtype: int64"
      ]
     },
     "execution_count": 96,
     "metadata": {},
     "output_type": "execute_result"
    }
   ],
   "source": [
    "final_data[final_data['Has_Online_delivery']=='No'].City.value_counts()"
   ]
  },
  {
   "cell_type": "code",
   "execution_count": 97,
   "id": "8dc44faa",
   "metadata": {},
   "outputs": [
    {
     "data": {
      "text/html": [
       "<div>\n",
       "<style scoped>\n",
       "    .dataframe tbody tr th:only-of-type {\n",
       "        vertical-align: middle;\n",
       "    }\n",
       "\n",
       "    .dataframe tbody tr th {\n",
       "        vertical-align: top;\n",
       "    }\n",
       "\n",
       "    .dataframe thead th {\n",
       "        text-align: right;\n",
       "    }\n",
       "</style>\n",
       "<table border=\"1\" class=\"dataframe\">\n",
       "  <thead>\n",
       "    <tr style=\"text-align: right;\">\n",
       "      <th></th>\n",
       "      <th>Restaurant_ID</th>\n",
       "      <th>Restaurant_Name</th>\n",
       "      <th>Country_Code</th>\n",
       "      <th>City</th>\n",
       "      <th>Address</th>\n",
       "      <th>Locality</th>\n",
       "      <th>Locality_Verbose</th>\n",
       "      <th>Longitude</th>\n",
       "      <th>Latitude</th>\n",
       "      <th>Cuisines</th>\n",
       "      <th>...</th>\n",
       "      <th>Has_Table_booking</th>\n",
       "      <th>Has_Online_delivery</th>\n",
       "      <th>Is_delivering_now</th>\n",
       "      <th>Switch_to_order_menu</th>\n",
       "      <th>Price_range</th>\n",
       "      <th>Aggregate_rating</th>\n",
       "      <th>Rating_color</th>\n",
       "      <th>Rating_text</th>\n",
       "      <th>Votes</th>\n",
       "      <th>Country</th>\n",
       "    </tr>\n",
       "  </thead>\n",
       "  <tbody>\n",
       "    <tr>\n",
       "      <th>0</th>\n",
       "      <td>6317637</td>\n",
       "      <td>Le Petit Souffle</td>\n",
       "      <td>162</td>\n",
       "      <td>Makati City</td>\n",
       "      <td>Third Floor, Century City Mall, Kalayaan Avenu...</td>\n",
       "      <td>Century City Mall, Poblacion, Makati City</td>\n",
       "      <td>Century City Mall, Poblacion, Makati City, Mak...</td>\n",
       "      <td>121.027535</td>\n",
       "      <td>14.565443</td>\n",
       "      <td>French, Japanese, Desserts</td>\n",
       "      <td>...</td>\n",
       "      <td>Yes</td>\n",
       "      <td>No</td>\n",
       "      <td>No</td>\n",
       "      <td>No</td>\n",
       "      <td>3</td>\n",
       "      <td>4.8</td>\n",
       "      <td>Dark Green</td>\n",
       "      <td>Excellent</td>\n",
       "      <td>314</td>\n",
       "      <td>Phillipines</td>\n",
       "    </tr>\n",
       "    <tr>\n",
       "      <th>1</th>\n",
       "      <td>6304287</td>\n",
       "      <td>Izakaya Kikufuji</td>\n",
       "      <td>162</td>\n",
       "      <td>Makati City</td>\n",
       "      <td>Little Tokyo, 2277 Chino Roces Avenue, Legaspi...</td>\n",
       "      <td>Little Tokyo, Legaspi Village, Makati City</td>\n",
       "      <td>Little Tokyo, Legaspi Village, Makati City, Ma...</td>\n",
       "      <td>121.014101</td>\n",
       "      <td>14.553708</td>\n",
       "      <td>Japanese</td>\n",
       "      <td>...</td>\n",
       "      <td>Yes</td>\n",
       "      <td>No</td>\n",
       "      <td>No</td>\n",
       "      <td>No</td>\n",
       "      <td>3</td>\n",
       "      <td>4.5</td>\n",
       "      <td>Dark Green</td>\n",
       "      <td>Excellent</td>\n",
       "      <td>320</td>\n",
       "      <td>Phillipines</td>\n",
       "    </tr>\n",
       "    <tr>\n",
       "      <th>2</th>\n",
       "      <td>6300002</td>\n",
       "      <td>Heat - Edsa Shangri-La</td>\n",
       "      <td>162</td>\n",
       "      <td>Mandaluyong City</td>\n",
       "      <td>Edsa Shangri-La, 1 Garden Way, Ortigas, Mandal...</td>\n",
       "      <td>Edsa Shangri-La, Ortigas, Mandaluyong City</td>\n",
       "      <td>Edsa Shangri-La, Ortigas, Mandaluyong City, Ma...</td>\n",
       "      <td>121.056831</td>\n",
       "      <td>14.581404</td>\n",
       "      <td>Seafood, Asian, Filipino, Indian</td>\n",
       "      <td>...</td>\n",
       "      <td>Yes</td>\n",
       "      <td>No</td>\n",
       "      <td>No</td>\n",
       "      <td>No</td>\n",
       "      <td>4</td>\n",
       "      <td>4.4</td>\n",
       "      <td>Green</td>\n",
       "      <td>Very Good</td>\n",
       "      <td>270</td>\n",
       "      <td>Phillipines</td>\n",
       "    </tr>\n",
       "    <tr>\n",
       "      <th>3</th>\n",
       "      <td>6318506</td>\n",
       "      <td>Ooma</td>\n",
       "      <td>162</td>\n",
       "      <td>Mandaluyong City</td>\n",
       "      <td>Third Floor, Mega Fashion Hall, SM Megamall, O...</td>\n",
       "      <td>SM Megamall, Ortigas, Mandaluyong City</td>\n",
       "      <td>SM Megamall, Ortigas, Mandaluyong City, Mandal...</td>\n",
       "      <td>121.056475</td>\n",
       "      <td>14.585318</td>\n",
       "      <td>Japanese, Sushi</td>\n",
       "      <td>...</td>\n",
       "      <td>No</td>\n",
       "      <td>No</td>\n",
       "      <td>No</td>\n",
       "      <td>No</td>\n",
       "      <td>4</td>\n",
       "      <td>4.9</td>\n",
       "      <td>Dark Green</td>\n",
       "      <td>Excellent</td>\n",
       "      <td>320</td>\n",
       "      <td>Phillipines</td>\n",
       "    </tr>\n",
       "    <tr>\n",
       "      <th>4</th>\n",
       "      <td>6314302</td>\n",
       "      <td>Sambo Kojin</td>\n",
       "      <td>162</td>\n",
       "      <td>Mandaluyong City</td>\n",
       "      <td>Third Floor, Mega Atrium, SM Megamall, Ortigas...</td>\n",
       "      <td>SM Megamall, Ortigas, Mandaluyong City</td>\n",
       "      <td>SM Megamall, Ortigas, Mandaluyong City, Mandal...</td>\n",
       "      <td>121.057508</td>\n",
       "      <td>14.584450</td>\n",
       "      <td>Japanese, Korean</td>\n",
       "      <td>...</td>\n",
       "      <td>Yes</td>\n",
       "      <td>No</td>\n",
       "      <td>No</td>\n",
       "      <td>No</td>\n",
       "      <td>4</td>\n",
       "      <td>4.8</td>\n",
       "      <td>Dark Green</td>\n",
       "      <td>Excellent</td>\n",
       "      <td>229</td>\n",
       "      <td>Phillipines</td>\n",
       "    </tr>\n",
       "  </tbody>\n",
       "</table>\n",
       "<p>5 rows × 22 columns</p>\n",
       "</div>"
      ],
      "text/plain": [
       "   Restaurant_ID         Restaurant_Name  Country_Code              City  \\\n",
       "0        6317637        Le Petit Souffle           162       Makati City   \n",
       "1        6304287        Izakaya Kikufuji           162       Makati City   \n",
       "2        6300002  Heat - Edsa Shangri-La           162  Mandaluyong City   \n",
       "3        6318506                    Ooma           162  Mandaluyong City   \n",
       "4        6314302             Sambo Kojin           162  Mandaluyong City   \n",
       "\n",
       "                                             Address  \\\n",
       "0  Third Floor, Century City Mall, Kalayaan Avenu...   \n",
       "1  Little Tokyo, 2277 Chino Roces Avenue, Legaspi...   \n",
       "2  Edsa Shangri-La, 1 Garden Way, Ortigas, Mandal...   \n",
       "3  Third Floor, Mega Fashion Hall, SM Megamall, O...   \n",
       "4  Third Floor, Mega Atrium, SM Megamall, Ortigas...   \n",
       "\n",
       "                                     Locality  \\\n",
       "0   Century City Mall, Poblacion, Makati City   \n",
       "1  Little Tokyo, Legaspi Village, Makati City   \n",
       "2  Edsa Shangri-La, Ortigas, Mandaluyong City   \n",
       "3      SM Megamall, Ortigas, Mandaluyong City   \n",
       "4      SM Megamall, Ortigas, Mandaluyong City   \n",
       "\n",
       "                                    Locality_Verbose   Longitude   Latitude  \\\n",
       "0  Century City Mall, Poblacion, Makati City, Mak...  121.027535  14.565443   \n",
       "1  Little Tokyo, Legaspi Village, Makati City, Ma...  121.014101  14.553708   \n",
       "2  Edsa Shangri-La, Ortigas, Mandaluyong City, Ma...  121.056831  14.581404   \n",
       "3  SM Megamall, Ortigas, Mandaluyong City, Mandal...  121.056475  14.585318   \n",
       "4  SM Megamall, Ortigas, Mandaluyong City, Mandal...  121.057508  14.584450   \n",
       "\n",
       "                           Cuisines  ...  Has_Table_booking  \\\n",
       "0        French, Japanese, Desserts  ...                Yes   \n",
       "1                          Japanese  ...                Yes   \n",
       "2  Seafood, Asian, Filipino, Indian  ...                Yes   \n",
       "3                   Japanese, Sushi  ...                 No   \n",
       "4                  Japanese, Korean  ...                Yes   \n",
       "\n",
       "  Has_Online_delivery Is_delivering_now Switch_to_order_menu Price_range  \\\n",
       "0                  No                No                   No           3   \n",
       "1                  No                No                   No           3   \n",
       "2                  No                No                   No           4   \n",
       "3                  No                No                   No           4   \n",
       "4                  No                No                   No           4   \n",
       "\n",
       "  Aggregate_rating  Rating_color  Rating_text Votes      Country  \n",
       "0              4.8    Dark Green    Excellent   314  Phillipines  \n",
       "1              4.5    Dark Green    Excellent   320  Phillipines  \n",
       "2              4.4         Green    Very Good   270  Phillipines  \n",
       "3              4.9    Dark Green    Excellent   320  Phillipines  \n",
       "4              4.8    Dark Green    Excellent   229  Phillipines  \n",
       "\n",
       "[5 rows x 22 columns]"
      ]
     },
     "execution_count": 97,
     "metadata": {},
     "output_type": "execute_result"
    }
   ],
   "source": [
    "final_data.head()"
   ]
  },
  {
   "cell_type": "markdown",
   "id": "d1c7f0d8",
   "metadata": {},
   "source": [
    "## Standardisation of the numerical data"
   ]
  },
  {
   "cell_type": "code",
   "execution_count": 98,
   "id": "d29ceeb3",
   "metadata": {},
   "outputs": [],
   "source": [
    "from scipy import stats"
   ]
  },
  {
   "cell_type": "code",
   "execution_count": 99,
   "id": "91bc89ef",
   "metadata": {},
   "outputs": [],
   "source": [
    "num_data_z = num_data.apply(stats.zscore) "
   ]
  },
  {
   "cell_type": "code",
   "execution_count": 100,
   "id": "cf4b5c57",
   "metadata": {},
   "outputs": [
    {
     "data": {
      "text/html": [
       "<div>\n",
       "<style scoped>\n",
       "    .dataframe tbody tr th:only-of-type {\n",
       "        vertical-align: middle;\n",
       "    }\n",
       "\n",
       "    .dataframe tbody tr th {\n",
       "        vertical-align: top;\n",
       "    }\n",
       "\n",
       "    .dataframe thead th {\n",
       "        text-align: right;\n",
       "    }\n",
       "</style>\n",
       "<table border=\"1\" class=\"dataframe\">\n",
       "  <thead>\n",
       "    <tr style=\"text-align: right;\">\n",
       "      <th></th>\n",
       "      <th>Restaurant_ID</th>\n",
       "      <th>Country_Code</th>\n",
       "      <th>Longitude</th>\n",
       "      <th>Latitude</th>\n",
       "      <th>Average_Cost_for_two</th>\n",
       "      <th>Price_range</th>\n",
       "      <th>Aggregate_rating</th>\n",
       "      <th>Votes</th>\n",
       "    </tr>\n",
       "  </thead>\n",
       "  <tbody>\n",
       "    <tr>\n",
       "      <th>0</th>\n",
       "      <td>6317637</td>\n",
       "      <td>1</td>\n",
       "      <td>77.583001</td>\n",
       "      <td>28.232644</td>\n",
       "      <td>1100</td>\n",
       "      <td>3</td>\n",
       "      <td>4.8</td>\n",
       "      <td>314</td>\n",
       "    </tr>\n",
       "    <tr>\n",
       "      <th>1</th>\n",
       "      <td>6304287</td>\n",
       "      <td>1</td>\n",
       "      <td>77.583001</td>\n",
       "      <td>28.232644</td>\n",
       "      <td>1200</td>\n",
       "      <td>3</td>\n",
       "      <td>4.5</td>\n",
       "      <td>591</td>\n",
       "    </tr>\n",
       "    <tr>\n",
       "      <th>2</th>\n",
       "      <td>6300002</td>\n",
       "      <td>1</td>\n",
       "      <td>77.583001</td>\n",
       "      <td>28.232644</td>\n",
       "      <td>4000</td>\n",
       "      <td>4</td>\n",
       "      <td>4.4</td>\n",
       "      <td>270</td>\n",
       "    </tr>\n",
       "    <tr>\n",
       "      <th>3</th>\n",
       "      <td>6318506</td>\n",
       "      <td>1</td>\n",
       "      <td>77.583001</td>\n",
       "      <td>28.232644</td>\n",
       "      <td>1500</td>\n",
       "      <td>4</td>\n",
       "      <td>4.9</td>\n",
       "      <td>365</td>\n",
       "    </tr>\n",
       "    <tr>\n",
       "      <th>4</th>\n",
       "      <td>6314302</td>\n",
       "      <td>1</td>\n",
       "      <td>77.583001</td>\n",
       "      <td>28.232644</td>\n",
       "      <td>1500</td>\n",
       "      <td>4</td>\n",
       "      <td>4.8</td>\n",
       "      <td>229</td>\n",
       "    </tr>\n",
       "  </tbody>\n",
       "</table>\n",
       "</div>"
      ],
      "text/plain": [
       "   Restaurant_ID  Country_Code  Longitude   Latitude  Average_Cost_for_two  \\\n",
       "0        6317637             1  77.583001  28.232644                  1100   \n",
       "1        6304287             1  77.583001  28.232644                  1200   \n",
       "2        6300002             1  77.583001  28.232644                  4000   \n",
       "3        6318506             1  77.583001  28.232644                  1500   \n",
       "4        6314302             1  77.583001  28.232644                  1500   \n",
       "\n",
       "   Price_range  Aggregate_rating  Votes  \n",
       "0            3               4.8    314  \n",
       "1            3               4.5    591  \n",
       "2            4               4.4    270  \n",
       "3            4               4.9    365  \n",
       "4            4               4.8    229  "
      ]
     },
     "execution_count": 100,
     "metadata": {},
     "output_type": "execute_result"
    }
   ],
   "source": [
    "num_data.head()"
   ]
  },
  {
   "cell_type": "code",
   "execution_count": null,
   "id": "30744de1",
   "metadata": {},
   "outputs": [],
   "source": [
    "\n"
   ]
  }
 ],
 "metadata": {
  "kernelspec": {
   "display_name": "Python 3 (ipykernel)",
   "language": "python",
   "name": "python3"
  },
  "language_info": {
   "codemirror_mode": {
    "name": "ipython",
    "version": 3
   },
   "file_extension": ".py",
   "mimetype": "text/x-python",
   "name": "python",
   "nbconvert_exporter": "python",
   "pygments_lexer": "ipython3",
   "version": "3.11.5"
  }
 },
 "nbformat": 4,
 "nbformat_minor": 5
}
